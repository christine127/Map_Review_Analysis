{
 "cells": [
  {
   "cell_type": "markdown",
   "metadata": {
    "ExecuteTime": {
     "end_time": "2021-10-06T09:40:33.097425Z",
     "start_time": "2021-10-06T09:40:33.081430Z"
    }
   },
   "source": [
    "# 라이브러리 import"
   ]
  },
  {
   "cell_type": "code",
   "execution_count": 1,
   "metadata": {
    "ExecuteTime": {
     "end_time": "2021-10-08T15:15:22.718087Z",
     "start_time": "2021-10-08T15:15:21.277185Z"
    }
   },
   "outputs": [],
   "source": [
    "from bs4 import BeautifulSoup\n",
    "import requests\n",
    "from urllib.request import urlopen\n",
    "import json\n",
    "import time\n",
    "import re\n",
    "from selenium import webdriver\n",
    "from selenium.webdriver.common.keys import Keys\n",
    "from selenium.common.exceptions import NoSuchElementException\n",
    "from selenium.common.exceptions import ElementNotVisibleException\n",
    "import pandas as pd "
   ]
  },
  {
   "cell_type": "markdown",
   "metadata": {
    "ExecuteTime": {
     "end_time": "2021-10-08T01:16:03.014191Z",
     "start_time": "2021-10-08T01:16:03.008209Z"
    }
   },
   "source": [
    "# 리뷰 페이지 접속"
   ]
  },
  {
   "cell_type": "markdown",
   "metadata": {},
   "source": [
    "리뷰페이지 접속 방법\n",
    "- 자신이 찾을 지점의 고유번호를 입력하기\n",
    "- 고유번호 찾는 방법: \n",
    "    1. 네이버맵 사이트에서 [검색할 지점] 검색\n",
    "    2. 바 형태로 뜬 지점 정보에 마우스 우클릭\n",
    "    3. 프레임소스 보기 클릭\n",
    "    4. 소스보기 화면 url에서 [지점 번호] 찾기\n",
    "    ex. view-source:https://pcmap.place.naver.com/restaurant/[지점번호]/home?from=map&fromPanelNum=1&ts=1633655558076\n",
    "    \n",
    "- 리뷰페이지 url 예시 : https://pcmap.place.naver.com/restaurant/+[지점번호]+/home?from=map&amp;fromPanelNum=2&amp"
   ]
  },
  {
   "cell_type": "markdown",
   "metadata": {},
   "source": [
    "## 가게 영업정보 크롤링(민주)"
   ]
  },
  {
   "cell_type": "markdown",
   "metadata": {},
   "source": [
    "## 방문자 리뷰 탭에서 크롤링"
   ]
  },
  {
   "cell_type": "code",
   "execution_count": 61,
   "metadata": {
    "ExecuteTime": {
     "end_time": "2021-10-08T16:20:12.777225Z",
     "start_time": "2021-10-08T16:20:12.769374Z"
    }
   },
   "outputs": [],
   "source": [
    "#홈에서의 더보기 경로는 홈페이지마다 위치가 달라지므로 f12 버튼 눌러서 파악해야 함\n",
    "def scroll_click(review_driver, see_more_xpath):\n",
    "    #홈에서 스크롤 다운\n",
    "    review_driver.execute_script(\"window.scrollTo(0, document.body.scrollHeight)\")\n",
    "    #홈에서 방문자 리뷰 더보기 클릭\n",
    "    review_driver.find_element_by_xpath(see_more_xpath).click()\n",
    "    #더보기 탭 끝까지 클릭하기 \n",
    "    while True:\n",
    "        try:\n",
    "            review_driver.find_element_by_xpath('//*[@id=\"app-root\"]/div/div/div[2]/div[5]/div[4]/div[5]/div[2]/a').click()\n",
    "        except:\n",
    "            break"
   ]
  },
  {
   "cell_type": "markdown",
   "metadata": {},
   "source": [
    "## 필요한 정보 추출하기 - 정규표현식 \n",
    "- 평균평점: 사용자가 다른 리뷰에서 준 평점 합산한 것의 평균\n",
    "- 평점 : 사용자가 해당 장소에 대하여 평가한 평점 \n",
    "- 방문횟수\n",
    "- 날짜\n",
    "- 리뷰(한줄평): 빈칸이면 'None'\n"
   ]
  },
  {
   "cell_type": "markdown",
   "metadata": {},
   "source": [
    "**~cleaner: 특정 표현 제외** "
   ]
  },
  {
   "cell_type": "code",
   "execution_count": 7,
   "metadata": {
    "ExecuteTime": {
     "end_time": "2021-10-08T15:15:38.212734Z",
     "start_time": "2021-10-08T15:15:38.188798Z"
    }
   },
   "outputs": [],
   "source": [
    "# html 태그 제거\n",
    "html_cleaner = re.compile('<.*?>')\n",
    "#평점 이외 표현 제거\n",
    "score_cleaner = re.compile(r'\\d{4}.\\d{2}.\\d{3}'+'번째 방문영수증')\n"
   ]
  },
  {
   "cell_type": "markdown",
   "metadata": {
    "ExecuteTime": {
     "end_time": "2021-10-08T15:20:36.519138Z",
     "start_time": "2021-10-08T15:20:36.507573Z"
    }
   },
   "source": [
    "**~format : 특정표현 포함**\n"
   ]
  },
  {
   "cell_type": "code",
   "execution_count": 9,
   "metadata": {
    "ExecuteTime": {
     "end_time": "2021-10-08T15:21:30.812273Z",
     "start_time": "2021-10-08T15:21:30.804191Z"
    }
   },
   "outputs": [],
   "source": [
    "#평균 평점 추출용 : 평균평점+ 숫자\n",
    "avg_score_format1 = re.compile('평균별점'+r'\\d{1}.\\d{1}') #평균평점<n.n> --> <n.n>\n",
    "avg_score_format2 = re.compile('평균별점'+r'\\d{1}')#평균평점<n> --> <n>\n",
    "#날짜 추출용: YYYY.MM.DD\n",
    "date_format = re.compile(r'\\d{4}.\\d{2}.\\d{2}')\n",
    "#방문횟수 추출용: <n>번째 방문영수증 --> <n> \n",
    "visit_time_format = re.compile(r'\\d'+'번째 방문영수증') "
   ]
  },
  {
   "cell_type": "markdown",
   "metadata": {},
   "source": [
    "## take_info: 필요한 정보를 데이터프레임로 정리\n",
    "- 리뷰, 방문횟수, 작성날짜, 평균평점, 평점"
   ]
  },
  {
   "cell_type": "code",
   "execution_count": 20,
   "metadata": {
    "ExecuteTime": {
     "end_time": "2021-10-08T15:39:22.355859Z",
     "start_time": "2021-10-08T15:39:22.326208Z"
    }
   },
   "outputs": [],
   "source": [
    "def take_info(soup):\n",
    "    visitor_reviews_lst = [] #리뷰(한줄평)\n",
    "    visit_times_lst = [] #방문횟수\n",
    "    review_dates_lst = [] #작성날짜\n",
    "    avg_score_lst = [] #평균평점\n",
    "    score_lst = [] #평점\n",
    "\n",
    "\n",
    "    for s in soup.find_all('div',{'class':'_1Z_GL'}):\n",
    "\n",
    "        ##----------평균평점 추출\n",
    "        personal_info = s.find('div',{'class':'_23Rml'})\n",
    "        personal_info = re.sub(html_cleaner,\"\",str(personal_info))#html 태그 제거 \n",
    "\n",
    "        try:#평균평점에 소수점이 있는 경우\n",
    "            matchobj = avg_score_format1.search(str(personal_info))\n",
    "            avg_score = matchobj.group()\n",
    "            avg_score_lst.append(avg_score[4:])\n",
    "\n",
    "        except:#평균평점이 정수인 경우\n",
    "            matchobj = avg_score_format2.search(str(personal_info))\n",
    "            avg_score = matchobj.group()\n",
    "            avg_score_lst.append(avg_score[4:])\n",
    "\n",
    "\n",
    "        ##-----------방문정보(평점, 날짜, 방문횟수) 추출\n",
    "        visit_info = s.find('div',{'class':'_1ZcDn'})\n",
    "        visit_info = re.sub(html_cleaner,\"\",str(visit_info)) #html 태그 제거 \n",
    "\n",
    "        #날짜 추출\n",
    "        matchobj = date_format.search(visit_info)\n",
    "        rev_date = matchobj.group()\n",
    "        review_dates_lst.append(rev_date)\n",
    "\n",
    "        #방문횟수 추출\n",
    "        matchobj = visit_time_format.search(visit_info)\n",
    "        visit_num = matchobj.group()\n",
    "        visit_times_lst.append(visit_num[0])\n",
    "\n",
    "        #평점 추출\n",
    "        score = re.sub(score_cleaner,\"\",visit_info)\n",
    "        score_lst.append(score)\n",
    "\n",
    "\n",
    "        ##-------------리뷰 추출\n",
    "        try:\n",
    "            review = s.find('div',{'class':'PVBo8'})\n",
    "            review = re.sub(html_cleaner,\"\",str(review))\n",
    "            visitor_reviews_lst.append(review)\n",
    "\n",
    "\n",
    "        except:\n",
    "            visitor_reviews_lst.append('None')\n",
    "            \n",
    "    #데이터 프레임으로 만들기 \n",
    "    visit_reviews = pd.DataFrame({'평균평점':avg_score_lst,'평점':score_lst,'한줄평':visitor_reviews_lst,'작성날짜':review_dates_lst,'방문횟수':visit_times_lst})\n",
    "        \n",
    "    return visit_reviews"
   ]
  },
  {
   "cell_type": "markdown",
   "metadata": {},
   "source": [
    "## 맛/서비스/만족도별 리뷰 크롤링(다예)"
   ]
  },
  {
   "cell_type": "markdown",
   "metadata": {
    "ExecuteTime": {
     "end_time": "2021-10-08T16:57:20.938240Z",
     "start_time": "2021-10-08T16:57:20.923890Z"
    }
   },
   "source": [
    "## 전체 크롤링 코드"
   ]
  },
  {
   "cell_type": "code",
   "execution_count": 91,
   "metadata": {
    "ExecuteTime": {
     "end_time": "2021-10-08T16:59:47.129594Z",
     "start_time": "2021-10-08T16:59:47.108651Z"
    },
    "scrolled": true
   },
   "outputs": [],
   "source": [
    "def crawling(store_number,see_more_xpath):\n",
    "    #크롬드라이버 구동하기 \n",
    "    options = webdriver.ChromeOptions()\n",
    "    options.add_argument('headless')#창 안 뜨게 설정\n",
    "    review_driver = webdriver.Chrome('./chromedriver.exe',options=options)# 크롬 경로\n",
    "    review_driver.implicitly_wait(3)\n",
    "    \n",
    "    #url 접속\n",
    "    review_url = 'https://pcmap.place.naver.com/restaurant/'+store_number+'/home?from=map&amp;fromPanelNum=2&amp'\n",
    "    review_driver.get(review_url)\n",
    "    time.sleep(5)\n",
    "    \n",
    "    \"\"\"홈에서 영업정보 크롤링하는 함수 호출(민주)\"\"\"\n",
    "\n",
    "    #스크롤 다운 후 더보기 클릭\n",
    "    scroll_click(review_driver, see_more_xpath)\n",
    "\n",
    "    html = review_driver.page_source\n",
    "    soup = BeautifulSoup(html,'html.parser')\n",
    "\n",
    "    #review_df에 필요한 정보 담기\n",
    "    review_df = take_info(soup)\n",
    "    \n",
    "    \"\"\"특징별 리뷰 뽑아오는 함수 호출(다예)\"\"\"\n",
    "\n",
    "    return review_df"
   ]
  },
  {
   "cell_type": "markdown",
   "metadata": {
    "ExecuteTime": {
     "end_time": "2021-10-08T16:36:07.906037Z",
     "start_time": "2021-10-08T16:36:07.896063Z"
    }
   },
   "source": [
    "# 크롤링 실행 후 df에 저장"
   ]
  },
  {
   "cell_type": "code",
   "execution_count": 81,
   "metadata": {
    "ExecuteTime": {
     "end_time": "2021-10-08T16:49:03.162403Z",
     "start_time": "2021-10-08T16:49:03.156315Z"
    }
   },
   "outputs": [],
   "source": [
    "#지점 고유번호\n",
    "store_number_lst = ['21726749', '34582591','1670762252']\n",
    "store_name_lst = ['투썸플레이스 종로구청점','투썸플레이스 종각역점','투썸플레이스 종로알파빌딩점']"
   ]
  },
  {
   "cell_type": "markdown",
   "metadata": {
    "ExecuteTime": {
     "end_time": "2021-10-08T16:37:13.001246Z",
     "start_time": "2021-10-08T16:37:12.992268Z"
    }
   },
   "source": [
    "## 리뷰url마다 더보기란의 xpath경로 파악하기 "
   ]
  },
  {
   "cell_type": "markdown",
   "metadata": {},
   "source": [
    "**내가 찾는 지점 리뷰url 접속**"
   ]
  },
  {
   "cell_type": "code",
   "execution_count": null,
   "metadata": {},
   "outputs": [],
   "source": [
    "store_number = store_number_lst[0] \n",
    "options = webdriver.ChromeOptions()\n",
    "options.add_argument('headless')#창 안 뜨게 설정\n",
    "review_driver = webdriver.Chrome('./chromedriver.exe',options=options)# 크롬 경로\n",
    "review_driver.implicitly_wait(3)\n",
    "\n",
    "#url 접속\n",
    "review_url = 'https://pcmap.place.naver.com/restaurant/'+store_number+'/home?from=map&amp;fromPanelNum=2&amp'\n",
    "review_driver.get(review_url)\n",
    "time.sleep(5)\n"
   ]
  },
  {
   "cell_type": "markdown",
   "metadata": {},
   "source": [
    "**f12눌러서 방문자 리뷰 더보기란의 xpath 찾기<br>**\n",
    "\n",
    "이런 태그들을 따라 클릭하다 보면 찾을 수 있음<br>\n",
    ":#app-root > div > div > div.place_detail_wrapper > div:nth-child(5) > div > div.place_section._2Sq-S > **div._2kAri** > a\n",
    "\n",
    "xpath예시:<br>\n",
    "//*[@id=\"app-root\"]/div/div/div[2]/div[5]/div/div[4]/div[2]/a<br>\n",
    "//*[@id=\"app-root\"]/div/div/div[2]/div[5]/div/div[8]/div[2]/a"
   ]
  },
  {
   "cell_type": "markdown",
   "metadata": {
    "ExecuteTime": {
     "end_time": "2021-10-08T16:42:33.051234Z",
     "start_time": "2021-10-08T16:42:33.042250Z"
    }
   },
   "source": [
    "## 크롤링한 후 전체 df로 합치기"
   ]
  },
  {
   "cell_type": "code",
   "execution_count": 85,
   "metadata": {
    "ExecuteTime": {
     "end_time": "2021-10-08T16:53:06.843278Z",
     "start_time": "2021-10-08T16:53:06.827973Z"
    },
    "scrolled": true
   },
   "outputs": [],
   "source": [
    "#더보기 xapth 경로는 순서대로 list에 저장\n",
    "see_more_xpath_lst = ['//*[@id=\"app-root\"]/div/div/div[2]/div[5]/div/div[4]/div[2]/a','//*[@id=\"app-root\"]/div/div/div[2]/div[5]/div/div[8]/div[2]/a','//*[@id=\"app-root\"]/div/div/div[2]/div[5]/div/div[4]/div[2]/a']"
   ]
  },
  {
   "cell_type": "code",
   "execution_count": 86,
   "metadata": {
    "ExecuteTime": {
     "end_time": "2021-10-08T16:54:07.632958Z",
     "start_time": "2021-10-08T16:53:07.408661Z"
    }
   },
   "outputs": [],
   "source": [
    "review_all_df = pd.DataFrame()\n",
    "for i in range(len(store_number_lst)):\n",
    "    #i번째 지점의 크롤링 review_df 생성\n",
    "    review_df = crawling(store_number_lst[i],see_more_xpath_lst[i])\n",
    "    #review_df의 첫 열에 지점명 추가\n",
    "    review_df.insert(0,'지점명',store_name_lst[i],allow_duplicates=False)\n",
    "    #전체 df에 합치기\n",
    "    review_all_df = pd.concat([review_all_df, review_df],axis=0)"
   ]
  },
  {
   "cell_type": "code",
   "execution_count": 88,
   "metadata": {
    "ExecuteTime": {
     "end_time": "2021-10-08T16:54:58.279142Z",
     "start_time": "2021-10-08T16:54:57.920672Z"
    }
   },
   "outputs": [],
   "source": [
    "review_all_df.to_excel('./방문자리뷰.xlsx', index=False)"
   ]
  },
  {
   "cell_type": "code",
   "execution_count": null,
   "metadata": {},
   "outputs": [],
   "source": []
  }
 ],
 "metadata": {
  "hide_input": false,
  "kernelspec": {
   "display_name": "Python 3",
   "language": "python",
   "name": "python3"
  },
  "language_info": {
   "codemirror_mode": {
    "name": "ipython",
    "version": 3
   },
   "file_extension": ".py",
   "mimetype": "text/x-python",
   "name": "python",
   "nbconvert_exporter": "python",
   "pygments_lexer": "ipython3",
   "version": "3.8.5"
  },
  "toc": {
   "base_numbering": 1,
   "nav_menu": {},
   "number_sections": true,
   "sideBar": true,
   "skip_h1_title": false,
   "title_cell": "Table of Contents",
   "title_sidebar": "Contents",
   "toc_cell": false,
   "toc_position": {},
   "toc_section_display": true,
   "toc_window_display": false
  }
 },
 "nbformat": 4,
 "nbformat_minor": 4
}
