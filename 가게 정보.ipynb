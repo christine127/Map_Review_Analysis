{
 "cells": [
  {
   "cell_type": "code",
   "execution_count": 32,
   "metadata": {},
   "outputs": [],
   "source": [
    "from bs4 import BeautifulSoup\n",
    "import requests\n",
    "from urllib.request import urlopen\n",
    "import os\n",
    "import json\n",
    "import time\n",
    "import re\n",
    "from selenium import webdriver\n",
    "from selenium.webdriver.common.keys import Keys\n",
    "from selenium.common.exceptions import NoSuchElementException\n",
    "from selenium.common.exceptions import ElementNotVisibleException\n",
    "import pandas as pd\n",
    "\n",
    "options = webdriver.ChromeOptions()\n",
    "options.add_argument('headless')\n",
    "options.add_argument('lang=ko_KR')\n",
    "chromedriver_path = \"chromedriver\"\n",
    "driver = webdriver.Chrome(os.path.join(os.getcwd(), chromedriver_path), options=options)  # chromedriver 열기"
   ]
  },
  {
   "cell_type": "code",
   "execution_count": 33,
   "metadata": {},
   "outputs": [],
   "source": [
    "from selenium import webdriver\n",
    "\n",
    "# 유의: chromedriver를 위에서 받아준 \n",
    "# chromdriver(windows는 chromedriver.exe)의 절대경로로 바꿔주세요!\n",
    "driver = webdriver.Chrome('chromedriver')\n",
    "\n",
    "driver.get('http://naver.com')\n",
    "driver.implicitly_wait(3)\n",
    "driver.get_screenshot_as_file('naver_main.png')\n",
    "\n",
    "driver.quit()"
   ]
  },
  {
   "cell_type": "code",
   "execution_count": 23,
   "metadata": {},
   "outputs": [],
   "source": [
    "# html 태그 제거\n",
    "html_cleaner = re.compile('<.*?>')"
   ]
  },
  {
   "cell_type": "code",
   "execution_count": 25,
   "metadata": {},
   "outputs": [],
   "source": [
    "def store_info(soup):\n",
    "    store_location = [] #위치\n",
    "    store_subway= [] #역으로부터의 거리\n",
    "    store_hour = [] #영업시간\n",
    "    store_detail1 = [] #정보1\n",
    "    store_detail2 = [] #정보2\n",
    "    \n",
    "    for s in soup.find_all('div', {'class':'_1M_Iz'}):\n",
    "        \n",
    "        store_location = s.find('div',{'class':' _1Gmk4'}) #위치\n",
    "        store_location = re.sub(html_cleaner,\"\",str(store_location))\n",
    "        \n",
    "        store_subway = s.find('div',{'class':'_2P6sT'}) #역으로부터 거리\n",
    "        store_subway = re.sub(html_cleaner,\"\",str(store_subway))\n",
    "                                \n",
    "        store_hour = s.find('div',{'class':'_2BDci _1OkoP _3XVfx'}) #영업시간\n",
    "        store_hour = re.sub(html_cleaner,\"\",str(store_hour))\n",
    "        \n",
    "        store_detail1 = s.find('div',{'class':'_1h3B_'}) #정보1\n",
    "        store_detail1 = re.sub(html_cleaner,\"\",str(store_detail1))\n",
    "        store_detail2 = s.find('div',{'class':'M_704'}) #정보2\n",
    "        store_detail2 = re.sub(html_cleaner,\"\",str(store_detail2))\n",
    "                               \n",
    "    #데이터 프레임으로 만들기 \n",
    "    store_info = pd.DataFrame({'위치':store_location,'역으로부터 위치':store_subway,'영업시간':store_hour,'영업정보1':store_detail1,'영업정보2': store_detail2})\n",
    "        \n",
    "    return store_info "
   ]
  }
 ],
 "metadata": {
  "kernelspec": {
   "display_name": "Python 3",
   "language": "python",
   "name": "python3"
  },
  "language_info": {
   "codemirror_mode": {
    "name": "ipython",
    "version": 3
   },
   "file_extension": ".py",
   "mimetype": "text/x-python",
   "name": "python",
   "nbconvert_exporter": "python",
   "pygments_lexer": "ipython3",
   "version": "3.8.3"
  }
 },
 "nbformat": 4,
 "nbformat_minor": 4
}
