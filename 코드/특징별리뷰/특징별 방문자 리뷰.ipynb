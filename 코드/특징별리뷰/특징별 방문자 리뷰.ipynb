{
 "cells": [
  {
   "cell_type": "code",
   "execution_count": 2,
   "metadata": {
    "ExecuteTime": {
     "end_time": "2021-10-11T02:18:25.217839Z",
     "start_time": "2021-10-11T02:18:25.204881Z"
    }
   },
   "outputs": [],
   "source": [
    "from bs4 import BeautifulSoup\n",
    "import requests\n",
    "from urllib.request import urlopen\n",
    "import json\n",
    "import time\n",
    "import re\n",
    "from selenium import webdriver\n",
    "from selenium.webdriver.common.keys import Keys\n",
    "from selenium.common.exceptions import NoSuchElementException\n",
    "from selenium.common.exceptions import ElementNotVisibleException\n",
    "import pandas as pd "
   ]
  },
  {
   "cell_type": "code",
   "execution_count": 70,
   "metadata": {
    "ExecuteTime": {
     "end_time": "2021-10-11T02:57:47.311310Z",
     "start_time": "2021-10-11T02:57:47.304337Z"
    }
   },
   "outputs": [],
   "source": [
    "store_number_lst = ['21726749', '34582591','1670762252']\n",
    "see_more_xpath_lst = ['//*[@id=\"app-root\"]/div/div/div[2]/div[5]/div/div[4]/div[2]/a','//*[@id=\"app-root\"]/div/div/div[2]/div[5]/div/div[8]/div[2]/a','//*[@id=\"app-root\"]/div/div/div[2]/div[5]/div/div[4]/div[2]/a']"
   ]
  },
  {
   "cell_type": "code",
   "execution_count": 74,
   "metadata": {
    "ExecuteTime": {
     "end_time": "2021-10-11T02:59:32.247506Z",
     "start_time": "2021-10-11T02:59:13.910227Z"
    }
   },
   "outputs": [],
   "source": [
    "store_number = store_number_lst[1] \n",
    "options = webdriver.ChromeOptions()\n",
    "# options.add_argument('headless')#창 안 뜨게 설정\n",
    "review_driver = webdriver.Chrome('./chromedriver.exe',options=options)# 크롬 경로\n",
    "review_driver.implicitly_wait(3)\n",
    "\n",
    "#url 접속\n",
    "review_url = 'https://pcmap.place.naver.com/restaurant/'+store_number+'/home?from=map&amp;fromPanelNum=2&amp'\n",
    "review_driver.get(review_url)\n",
    "time.sleep(5)\n"
   ]
  },
  {
   "cell_type": "code",
   "execution_count": 75,
   "metadata": {
    "ExecuteTime": {
     "end_time": "2021-10-11T02:59:35.373699Z",
     "start_time": "2021-10-11T02:59:32.254487Z"
    }
   },
   "outputs": [],
   "source": [
    "#홈에서 스크롤 다운\n",
    "review_driver.execute_script(\"window.scrollTo(0, document.body.scrollHeight)\")\n",
    "#홈에서 방문자 리뷰 더보기 클릭\n",
    "review_driver.find_element_by_xpath(see_more_xpath_lst[1]).click()"
   ]
  },
  {
   "cell_type": "code",
   "execution_count": 101,
   "metadata": {
    "ExecuteTime": {
     "end_time": "2021-10-11T03:27:00.842730Z",
     "start_time": "2021-10-11T03:26:58.322442Z"
    }
   },
   "outputs": [],
   "source": [
    "taste_button = review_driver.find_element_by_xpath('//*[@id=\"app-root\"]/div/div/div[2]/div[5]/div[4]/div[5]/div[1]/div[1]/div/a[2]')\n",
    "taste_button.click()\n",
    "\n",
    "html = review_driver.page_source\n",
    "soup = BeautifulSoup(html, 'lxml')\n",
    "\n",
    "#댓글추출\n",
    "tastes = review_driver.find_elements_by_class_name('highlight')\n",
    "tastes = [taste.text for taste in tastes]\n",
    "\n",
    "charateristic_df = pd.DataFrame({'리뷰':tastes})\n",
    "charateristic_df['구분'] = '맛'\n",
    "\n",
    "#서비스 클릭하기\n",
    "services_button = review_driver.find_element_by_xpath('//*[@id=\"app-root\"]/div/div/div[2]/div[5]/div[4]/div[5]/div[1]/div[1]/div/a[3]')\n",
    "services_button.click()    \n",
    "\n",
    "html = review_driver.page_source\n",
    "soup = BeautifulSoup(html, 'lxml')\n",
    "       \n",
    "#댓글추출\n",
    "services = review_driver.find_elements_by_class_name('highlight')\n",
    "services = [service.text for service in services]\n",
    "\n",
    "\n",
    "#만족도 클릭하기 --> 분위기로 바꾸기 \n",
    "satisfactions_button = review_driver.find_element_by_xpath('//*[@id=\"app-root\"]/div/div/div[2]/div[5]/div[4]/div[5]/div[1]/div[1]/div/a[9]')\n",
    "satisfactions_button.click()\n",
    "\n",
    "html = review_driver.page_source\n",
    "soup = BeautifulSoup(html, 'lxml')       \n",
    "\n",
    "\n",
    "#댓글추출\n",
    "satisfactions = review_driver.find_elements_by_class_name('highlight')\n",
    "satisfactions = [satisfaction.text for satisfaction in satisfactions]\n",
    "\n",
    "#취합\n",
    "satisfaction_review = list(zip(nicks,satisfactions))"
   ]
  },
  {
   "cell_type": "code",
   "execution_count": null,
   "metadata": {},
   "outputs": [],
   "source": []
  }
 ],
 "metadata": {
  "hide_input": false,
  "kernelspec": {
   "display_name": "Python 3",
   "language": "python",
   "name": "python3"
  },
  "language_info": {
   "codemirror_mode": {
    "name": "ipython",
    "version": 3
   },
   "file_extension": ".py",
   "mimetype": "text/x-python",
   "name": "python",
   "nbconvert_exporter": "python",
   "pygments_lexer": "ipython3",
   "version": "3.8.5"
  },
  "toc": {
   "base_numbering": 1,
   "nav_menu": {},
   "number_sections": true,
   "sideBar": true,
   "skip_h1_title": false,
   "title_cell": "Table of Contents",
   "title_sidebar": "Contents",
   "toc_cell": false,
   "toc_position": {},
   "toc_section_display": true,
   "toc_window_display": false
  }
 },
 "nbformat": 4,
 "nbformat_minor": 4
}
