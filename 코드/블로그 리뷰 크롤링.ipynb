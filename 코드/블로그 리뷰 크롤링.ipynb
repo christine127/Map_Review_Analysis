{
 "cells": [
  {
   "cell_type": "markdown",
   "metadata": {},
   "source": [
    "## 블로그 리뷰 크롤링"
   ]
  },
  {
   "cell_type": "code",
   "execution_count": 1,
   "metadata": {
    "ExecuteTime": {
     "end_time": "2021-10-11T05:54:31.566686Z",
     "start_time": "2021-10-11T05:54:29.156778Z"
    }
   },
   "outputs": [],
   "source": [
    "from bs4 import BeautifulSoup\n",
    "import requests\n",
    "from urllib.request import urlopen\n",
    "import datetime\n",
    "from datetime import timedelta\n",
    "import json\n",
    "import time\n",
    "import re\n",
    "from selenium import webdriver\n",
    "from selenium.webdriver.common.keys import Keys\n",
    "from selenium.common.exceptions import NoSuchElementException\n",
    "from selenium.common.exceptions import ElementNotVisibleException\n",
    "import pandas as pd "
   ]
  },
  {
   "cell_type": "markdown",
   "metadata": {},
   "source": [
    " ### **지점번호, 방문자 더보기xpath, 블로그 더보기 xpath --> 엑셀에 저장해놓기**"
   ]
  },
  {
   "cell_type": "code",
   "execution_count": 56,
   "metadata": {
    "ExecuteTime": {
     "end_time": "2021-10-11T06:23:18.072269Z",
     "start_time": "2021-10-11T06:23:18.060301Z"
    }
   },
   "outputs": [],
   "source": [
    "store_number_lst = ['21726749', '34582591','1670762252']\n",
    "store_name_lst = ['투썸플레이스 종로구청점','투썸플레이스 종각역점','투썸플레이스 종로알파빌딩점']\n",
    "see_more_visit_xpath_lst = ['//*[@id=\"app-root\"]/div/div/div[2]/div[5]/div/div[4]/div[2]/a','//*[@id=\"app-root\"]/div/div/div[2]/div[5]/div/div[8]/div[2]/a','//*[@id=\"app-root\"]/div/div/div[2]/div[5]/div/div[4]/div[2]/a']\n",
    "see_more_blog_xpath_lst = ['//*[@id=\"app-root\"]/div/div/div[2]/div[5]/div/div[9]/div[2]/a']"
   ]
  },
  {
   "cell_type": "code",
   "execution_count": 52,
   "metadata": {
    "ExecuteTime": {
     "end_time": "2021-10-11T06:17:44.046777Z",
     "start_time": "2021-10-11T06:17:33.356099Z"
    }
   },
   "outputs": [],
   "source": [
    "store_number = store_number_lst[1] \n",
    "options = webdriver.ChromeOptions()\n",
    "# options.add_argument('headless')#창 안 뜨게 설정\n",
    "review_driver = webdriver.Chrome('./chromedriver.exe',options=options)# 크롬 경로\n",
    "review_driver.implicitly_wait(3)\n",
    "\n",
    "#url 접속\n",
    "review_url = 'https://pcmap.place.naver.com/restaurant/'+store_number+'/home?from=map&amp;fromPanelNum=2&amp'\n",
    "review_driver.get(review_url)\n",
    "time.sleep(5)\n",
    "\n"
   ]
  },
  {
   "cell_type": "code",
   "execution_count": 50,
   "metadata": {
    "ExecuteTime": {
     "end_time": "2021-10-11T06:17:23.856636Z",
     "start_time": "2021-10-11T06:17:23.841289Z"
    }
   },
   "outputs": [],
   "source": [
    "#홈에서의 더보기 경로는 홈페이지마다 위치가 달라지므로 f12 버튼 눌러서 파악해야 함\n",
    "def review_seen(review_driver, see_more_xpath):\n",
    "    #홈에서 스크롤 다운\n",
    "    review_driver.execute_script(\"window.scrollTo(0, document.body.scrollHeight)\")\n",
    "    #홈에서 방문자 리뷰 더보기 클릭\n",
    "    review_driver.find_element_by_xpath(see_more_xpath).click()\n",
    "\n",
    "def all_visit_review_seen(review_driver):\n",
    "    #방문자 리뷰에서 더보기 탭 끝까지 클릭하기 \n",
    "    while True:\n",
    "        try:\n",
    "            review_driver.find_element_by_xpath('//*[@id=\"app-root\"]/div/div/div[2]/div[5]/div[4]/div[5]/div[2]/a').click()\n",
    "        except:\n",
    "            break\n",
    "\n",
    "def five_blog_review_seen(review_driver):\n",
    "    # 블로그 더보기 탭 누르기 5번\n",
    "    for _ in range(5):\n",
    "        try:\n",
    "            review_driver.find_element_by_xpath('//*[@id=\"app-root\"]/div/div/div[2]/div[5]/div[4]/div[2]/div[2]/a').click()\n",
    "        except:\n",
    "            break"
   ]
  },
  {
   "cell_type": "code",
   "execution_count": 9,
   "metadata": {
    "ExecuteTime": {
     "end_time": "2021-10-11T05:55:03.167443Z",
     "start_time": "2021-10-11T05:55:03.150356Z"
    }
   },
   "outputs": [],
   "source": [
    "# 3년 이내의 블로그 리뷰만 링크 받기\n",
    "def blog_link_list(blog_soup):\n",
    "    global html_cleaner\n",
    "    blog_url_lst=[]\n",
    "    date_lst= []\n",
    "    before_3y = datetime.datetime.now() - timedelta(days = 365*3)\n",
    "    for s in blog_soup.find_all('li',{'class':'_3OyGD'}):\n",
    "        date = s.find('span',{'class':'_7OvgA'})\n",
    "        date = re.sub(html_cleaner,\"\", str(date))\n",
    "        #3년 이내 블로그 글만 퍼오기\n",
    "        if pd.to_datetime(date) > before_3y:\n",
    "            url = s.find('a')['href']\n",
    "            blog_url_lst.append(url)\n",
    "            date_lst.append(date)\n",
    "    blog_df = pd.DataFrame({'url':blog_url_lst, 'date':date_lst})\n",
    "    blog_df['content'] = ' '\n",
    "    return blog_df\n"
   ]
  },
  {
   "cell_type": "code",
   "execution_count": 37,
   "metadata": {
    "ExecuteTime": {
     "end_time": "2021-10-11T06:07:24.664891Z",
     "start_time": "2021-10-11T06:07:24.641952Z"
    }
   },
   "outputs": [],
   "source": [
    "def blog_review_crawling(blog_df):\n",
    "    options = webdriver.ChromeOptions()\n",
    "    options.add_argument('headless')#창 안 뜨게 설정\n",
    "\n",
    "    blog_driver = webdriver.Chrome('./chromedriver.exe',options=options)# 크롬 경로\n",
    "    blog_driver.implicitly_wait(5)\n",
    "    \n",
    "    for url in blog_df['url']:\n",
    "        blog_driver.get(url)\n",
    "        time.sleep(5)\n",
    "        blog_driver.switch_to.frame('mainFrame')\n",
    "        content = ''\n",
    "        overlays = \".se-component.se-text.se-l-default\" # 내용 크롤링\n",
    "        unrefined_content = blog_driver.find_elements_by_css_selector(overlays)\n",
    "        \n",
    "        if len(unrefined_content) == 0:\n",
    "            overlays = \".se_component.se_paragraph.default\" # 내용 크롤링\n",
    "            unrefined_content = blog_driver.find_elements_by_css_selector(overlays)\n",
    "        for c in unrefined_content:\n",
    "            content = content + c.text # content 라는 값에 + 하면서 점점 누적\n",
    "            content = content.replace(\"\\n\",\"\")\n",
    "        blog_df.loc[blog_df['url']==url,'content'] = content\n",
    "\n",
    "    return blog_df"
   ]
  },
  {
   "cell_type": "code",
   "execution_count": 54,
   "metadata": {
    "ExecuteTime": {
     "end_time": "2021-10-11T06:17:47.383162Z",
     "start_time": "2021-10-11T06:17:46.911114Z"
    }
   },
   "outputs": [],
   "source": [
    "# 블로그 리뷰 탭으로 넘어가기\n",
    "review_seen(review_driver, see_more_blog_xpath_lst[0])\n",
    "# 5번 더보기 탭 누르기\n",
    "five_blog_review_seen(review_driver)\n",
    "# 현재 html 받기\n",
    "blog_html = review_driver.page_source\n",
    "blog_soup = BeautifulSoup(blog_html,'html.parser')\n",
    "html_cleaner = re.compile('<.*?>')\n",
    "\n",
    "#블로그 링크, 날짜 --> 블로그 df에 저장\n",
    "blog_df = blog_link_list(blog_soup)\n",
    "#블로그 내용 크롤링 --> 블로그 df에 저장\n",
    "blog_df = blog_review_crawling(blog_df)\n",
    "blog_df.insert(0,'지점명',store_name_lst[0],allow_duplicates=False)"
   ]
  },
  {
   "cell_type": "code",
   "execution_count": 58,
   "metadata": {
    "ExecuteTime": {
     "end_time": "2021-10-11T06:23:24.304738Z",
     "start_time": "2021-10-11T06:23:24.286586Z"
    }
   },
   "outputs": [
    {
     "data": {
      "text/html": [
       "<div>\n",
       "<style scoped>\n",
       "    .dataframe tbody tr th:only-of-type {\n",
       "        vertical-align: middle;\n",
       "    }\n",
       "\n",
       "    .dataframe tbody tr th {\n",
       "        vertical-align: top;\n",
       "    }\n",
       "\n",
       "    .dataframe thead th {\n",
       "        text-align: right;\n",
       "    }\n",
       "</style>\n",
       "<table border=\"1\" class=\"dataframe\">\n",
       "  <thead>\n",
       "    <tr style=\"text-align: right;\">\n",
       "      <th></th>\n",
       "      <th>지점명</th>\n",
       "      <th>url</th>\n",
       "      <th>date</th>\n",
       "      <th>content</th>\n",
       "    </tr>\n",
       "  </thead>\n",
       "  <tbody>\n",
       "    <tr>\n",
       "      <th>0</th>\n",
       "      <td>투썸플레이스 종로구청점</td>\n",
       "      <td>https://blog.naver.com/jungkeung/221785728643</td>\n",
       "      <td>2020.01.26.</td>\n",
       "      <td>집🏡여유를 즐겼다오랜만에 카레 만들어 먹었당 ㅎㅎ엄마가 갑자기 취업을 하게 돼서청소...</td>\n",
       "    </tr>\n",
       "    <tr>\n",
       "      <th>1</th>\n",
       "      <td>투썸플레이스 종로구청점</td>\n",
       "      <td>https://blog.naver.com/jungkeung/221811707729</td>\n",
       "      <td>2020.02.17.</td>\n",
       "      <td>오늘은 쏙캠 회계폭탄 처리를 위한 회의..약간 마음의 준비를 하고 갔다 ㅋㅋㅋ잠 못...</td>\n",
       "    </tr>\n",
       "    <tr>\n",
       "      <th>2</th>\n",
       "      <td>투썸플레이스 종로구청점</td>\n",
       "      <td>https://blog.naver.com/gptjd1212/222503637351</td>\n",
       "      <td>2021.09.16.</td>\n",
       "      <td>가을의 대표 작물인 고구마!투썸에서 9월을 맞이하여 고구마 디저트가 나왔더라고요 ㅎ...</td>\n",
       "    </tr>\n",
       "    <tr>\n",
       "      <th>3</th>\n",
       "      <td>투썸플레이스 종로구청점</td>\n",
       "      <td>https://blog.naver.com/tlrevolution/221391828275</td>\n",
       "      <td>2018.11.05.</td>\n",
       "      <td>갑자기 내린 비를 피해서 방문하게 된 투썸플레이스 종각역점.. 요즘 투썸에 소홀했는...</td>\n",
       "    </tr>\n",
       "    <tr>\n",
       "      <th>4</th>\n",
       "      <td>투썸플레이스 종로구청점</td>\n",
       "      <td>https://blog.naver.com/all10x10/222517371861</td>\n",
       "      <td>2021.09.26.</td>\n",
       "      <td>밀크바 팥빙수가 없어서베리바 요거 케이크 빙수랑 인절미 티라미슈 먹었다ㅡ빙수에 산딸...</td>\n",
       "    </tr>\n",
       "    <tr>\n",
       "      <th>5</th>\n",
       "      <td>투썸플레이스 종로구청점</td>\n",
       "      <td>https://blog.naver.com/orro2/222403948699</td>\n",
       "      <td>2021.06.20.</td>\n",
       "      <td>투썸플레이스아임얼라이브 콤부차요즘 콤부차 많이 드시죠?저는 콤부차의 첫 인식경로가기...</td>\n",
       "    </tr>\n",
       "  </tbody>\n",
       "</table>\n",
       "</div>"
      ],
      "text/plain": [
       "            지점명                                               url  \\\n",
       "0  투썸플레이스 종로구청점     https://blog.naver.com/jungkeung/221785728643   \n",
       "1  투썸플레이스 종로구청점     https://blog.naver.com/jungkeung/221811707729   \n",
       "2  투썸플레이스 종로구청점     https://blog.naver.com/gptjd1212/222503637351   \n",
       "3  투썸플레이스 종로구청점  https://blog.naver.com/tlrevolution/221391828275   \n",
       "4  투썸플레이스 종로구청점      https://blog.naver.com/all10x10/222517371861   \n",
       "5  투썸플레이스 종로구청점         https://blog.naver.com/orro2/222403948699   \n",
       "\n",
       "          date                                            content  \n",
       "0  2020.01.26.  집🏡여유를 즐겼다오랜만에 카레 만들어 먹었당 ㅎㅎ엄마가 갑자기 취업을 하게 돼서청소...  \n",
       "1  2020.02.17.  오늘은 쏙캠 회계폭탄 처리를 위한 회의..약간 마음의 준비를 하고 갔다 ㅋㅋㅋ잠 못...  \n",
       "2  2021.09.16.  가을의 대표 작물인 고구마!투썸에서 9월을 맞이하여 고구마 디저트가 나왔더라고요 ㅎ...  \n",
       "3  2018.11.05.  갑자기 내린 비를 피해서 방문하게 된 투썸플레이스 종각역점.. 요즘 투썸에 소홀했는...  \n",
       "4  2021.09.26.  밀크바 팥빙수가 없어서베리바 요거 케이크 빙수랑 인절미 티라미슈 먹었다ㅡ빙수에 산딸...  \n",
       "5  2021.06.20.  투썸플레이스아임얼라이브 콤부차요즘 콤부차 많이 드시죠?저는 콤부차의 첫 인식경로가기...  "
      ]
     },
     "execution_count": 58,
     "metadata": {},
     "output_type": "execute_result"
    }
   ],
   "source": [
    "blog_df"
   ]
  },
  {
   "cell_type": "code",
   "execution_count": null,
   "metadata": {},
   "outputs": [],
   "source": []
  }
 ],
 "metadata": {
  "hide_input": false,
  "kernelspec": {
   "display_name": "Python 3",
   "language": "python",
   "name": "python3"
  },
  "language_info": {
   "codemirror_mode": {
    "name": "ipython",
    "version": 3
   },
   "file_extension": ".py",
   "mimetype": "text/x-python",
   "name": "python",
   "nbconvert_exporter": "python",
   "pygments_lexer": "ipython3",
   "version": "3.8.5"
  },
  "toc": {
   "base_numbering": 1,
   "nav_menu": {},
   "number_sections": true,
   "sideBar": true,
   "skip_h1_title": false,
   "title_cell": "Table of Contents",
   "title_sidebar": "Contents",
   "toc_cell": false,
   "toc_position": {},
   "toc_section_display": true,
   "toc_window_display": false
  }
 },
 "nbformat": 4,
 "nbformat_minor": 4
}
