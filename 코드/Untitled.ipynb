{
 "cells": [
  {
   "cell_type": "code",
   "execution_count": 2,
   "metadata": {
    "ExecuteTime": {
     "end_time": "2021-10-11T02:18:25.217839Z",
     "start_time": "2021-10-11T02:18:25.204881Z"
    }
   },
   "outputs": [],
   "source": [
    "from bs4 import BeautifulSoup\n",
    "import requests\n",
    "from urllib.request import urlopen\n",
    "import json\n",
    "import time\n",
    "import re\n",
    "from selenium import webdriver\n",
    "from selenium.webdriver.common.keys import Keys\n",
    "from selenium.common.exceptions import NoSuchElementException\n",
    "from selenium.common.exceptions import ElementNotVisibleException\n",
    "import pandas as pd "
   ]
  },
  {
   "cell_type": "code",
   "execution_count": null,
   "metadata": {},
   "outputs": [],
   "source": []
  },
  {
   "cell_type": "code",
   "execution_count": null,
   "metadata": {},
   "outputs": [],
   "source": [
    "def store_info(soup):\n",
    "    global html_cleaner\n",
    "    store_location = [] #위치\n",
    "    store_subway= [] #역으로부터의 거리\n",
    "    store_hour = [] #영업시간\n",
    "    store_detail1 = [] #정보1\n",
    "    store_detail2 = [] #정보2\n",
    "    \n",
    "\n",
    "\n",
    "    store_location = soup.find('div',{'class':' _1Gmk4'}) #위치\n",
    "    store_location = re.sub(html_cleaner,\"\",str(store_location))\n",
    "\n",
    "    store_subway = soup.find('div',{'class':'_2P6sT'}) #역으로부터 거리\n",
    "    store_subway = re.sub(html_cleaner,\"\",str(store_subway))\n",
    "\"\"\"여기부터 참고하세요\"\"\"\n",
    "    open_time = soup.find_all('span',{'class':'_20pEw'}) #영업시간\n",
    "    for hour in open_time:\n",
    "        hour = re.sub(html_cleaner,\"\",str(hour))\n",
    "        store_hour.append(hour)\n",
    "\"\"\"여기까지 참고하세요\"\"\"\n",
    "    store_detail1 = s.find('div',{'class':'_1h3B_'}) #정보1\n",
    "    store_detail1 = re.sub(html_cleaner,\"\",str(store_detail1))\n",
    "    store_detail2 = s.find('div',{'class':'M_704'}) #정보2\n",
    "    store_detail2 = re.sub(html_cleaner,\"\",str(store_detail2))\n",
    "                               \n",
    "    #데이터 프레임으로 만들기 \n",
    "    store_info = pd.DataFrame({'위치':store_location,'역으로부터 위치':store_subway,'영업시간':store_hour,'영업정보1':store_detail1,'영업정보2': store_detail2})\n",
    "        \n",
    "    return store_info"
   ]
  },
  {
   "cell_type": "code",
   "execution_count": 4,
   "metadata": {
    "ExecuteTime": {
     "end_time": "2021-10-11T02:19:06.313913Z",
     "start_time": "2021-10-11T02:19:06.296962Z"
    }
   },
   "outputs": [],
   "source": [
    "store_number_lst = ['21726749', '34582591','1670762252']"
   ]
  },
  {
   "cell_type": "code",
   "execution_count": 30,
   "metadata": {
    "ExecuteTime": {
     "end_time": "2021-10-11T02:31:50.623820Z",
     "start_time": "2021-10-11T02:31:28.010991Z"
    }
   },
   "outputs": [],
   "source": [
    "store_number = store_number_lst[1] \n",
    "options = webdriver.ChromeOptions()\n",
    "# options.add_argument('headless')#창 안 뜨게 설정\n",
    "review_driver = webdriver.Chrome('./chromedriver.exe',options=options)# 크롬 경로\n",
    "review_driver.implicitly_wait(3)\n",
    "\n",
    "#url 접속\n",
    "review_url = 'https://pcmap.place.naver.com/restaurant/'+store_number+'/home?from=map&amp;fromPanelNum=2&amp'\n",
    "review_driver.get(review_url)\n",
    "time.sleep(5)\n"
   ]
  },
  {
   "cell_type": "code",
   "execution_count": 31,
   "metadata": {
    "ExecuteTime": {
     "end_time": "2021-10-11T02:31:51.906909Z",
     "start_time": "2021-10-11T02:31:50.629803Z"
    }
   },
   "outputs": [],
   "source": [
    "main_html = review_driver.page_source\n",
    "main_soup = BeautifulSoup(main_html,'html.parser')"
   ]
  },
  {
   "cell_type": "code",
   "execution_count": 56,
   "metadata": {
    "ExecuteTime": {
     "end_time": "2021-10-11T02:47:44.126108Z",
     "start_time": "2021-10-11T02:47:44.112145Z"
    }
   },
   "outputs": [],
   "source": [
    "html_cleaner = re.compile('<.*?>')"
   ]
  },
  {
   "cell_type": "code",
   "execution_count": 29,
   "metadata": {
    "ExecuteTime": {
     "end_time": "2021-10-11T02:30:38.251768Z",
     "start_time": "2021-10-11T02:30:38.221847Z"
    },
    "scrolled": true
   },
   "outputs": [
    {
     "name": "stdout",
     "output_type": "stream",
     "text": [
      "1\n",
      "<div class=\"_1h3B_\"><span class=\"_3ZA0S\">02-734-2377</span><span class=\"_2M7HZ\"><a class=\"_2wcPx\" href=\"#\" role=\"button\" target=\"_self\" title=\"복사\"><svg aria-hidden=\"true\" class=\"_32ZZX\" viewbox=\"0 0 12 13\" xmlns=\"http://www.w3.org/2000/svg\"><path d=\"M9 8v.48l-1.98 1.58L6 11H3v1h4.61L10 9.81V3h-.97L9 8zm0-6h1a1 1 0 0 1 1 1v7.25L8 13H3a1 1 0 0 1-1-1v-1H1a1 1 0 0 1-1-1V1a1 1 0 0 1 1-1h7a1 1 0 0 1 1 1v1zm-7 8h3.5l.87-.7L8 7.81V1H1v9h1zm0-7h4v1H2V3zm0 2h4v1H2V5zm0 2h2v1H2V7z\"></path></svg>복사</a></span></div>\n",
      "2\n",
      "<div class=\"_1h3B_\"><a aria-expanded=\"false\" aria-haspopup=\"true\" class=\"_1Gmk4\" href=\"#\" role=\"button\" target=\"_self\"><span class=\"_2yqUQ\">서울 종로구 종로5길 58 석탄회관빌딩</span><span class=\"_1aKLL\"><svg aria-hidden=\"true\" class=\"_12Coj\" viewbox=\"0 0 12 7\" xmlns=\"http://www.w3.org/2000/svg\"><path d=\"M6 5.59L11.35 0l.65.7L6 7 0 .7.65 0z\"></path></svg></span></a><div class=\"_2P6sT\"><span class=\"_1nD5-\"><span class=\"_12Coj\" style=\"background:#8936e0\">5</span></span><strong>광화문<!-- -->역</strong> 2번 출구<!-- -->에서<em>321<!-- -->m</em></div></div>\n",
      "3\n",
      "<div class=\"_1h3B_\"><a class=\"_2BDci _1OkoP \" href=\"#\" role=\"button\" target=\"_self\"><div class=\"_2ZP3j \"><div class=\"_20Y9l\"><span class=\"_20pEw\">평일 07:00 - 21:00<!-- --> </span><svg aria-hidden=\"true\" class=\"_3erXy\" viewbox=\"0 0 12 7\" xmlns=\"http://www.w3.org/2000/svg\"><path d=\"M6 5.59L11.35 0l.65.7L6 7 0 .7.65 0z\"></path></svg><span class=\"place_blind\">펼쳐보기</span></div></div><div class=\"_2ZP3j \"><div class=\"_20Y9l\"><span class=\"_20pEw\">주말 10:00 - 20:00<!-- --> </span><svg aria-hidden=\"true\" class=\"_3erXy\" viewbox=\"0 0 12 7\" xmlns=\"http://www.w3.org/2000/svg\"><path d=\"M6 5.59L11.35 0l.65.7L6 7 0 .7.65 0z\"></path></svg><span class=\"place_blind\">접기</span></div></div></a></div>\n",
      "4\n",
      "<div class=\"_1h3B_\">주차, 포장, 배달, 남/녀 화장실 구분</div>\n",
      "5\n",
      "<div class=\"_1h3B_\"><div class=\"_14J59\"><a class=\"_1RUzg\" href=\"http://www.twosome.co.kr/\" role=\"button\" target=\"_blank\">http://www.twosome.co.kr/</a></div></div>\n",
      "6\n",
      "<div class=\"_1h3B_\"><div class=\"M_704\" style=\"display: block;\"><span class=\"WoYOw\">현금 없는 매장입니다.</span></div></div>\n",
      "7\n",
      "<div class=\"_1h3B_\"><a href=\"#\" role=\"button\" target=\"_self\">정보 수정 제안하기<svg aria-hidden=\"true\" class=\"_12Coj\" viewbox=\"0 0 8 13\" xmlns=\"http://www.w3.org/2000/svg\"><path d=\"M6.09 6.5L.5 1.15 1.2.5l6.3 6-6.3 6-.7-.65z\"></path></svg></a></div>\n"
     ]
    }
   ],
   "source": [
    "i = 0\n",
    "for s in main_soup.find_all('div',{'class':'_1h3B_'}):\n",
    "    i +=1\n",
    "    print(i)\n",
    "    print(s)"
   ]
  },
  {
   "cell_type": "code",
   "execution_count": 15,
   "metadata": {
    "ExecuteTime": {
     "end_time": "2021-10-11T02:23:40.615344Z",
     "start_time": "2021-10-11T02:23:40.575451Z"
    },
    "scrolled": true
   },
   "outputs": [
    {
     "data": {
      "text/plain": [
       "[<span class=\"_20pEw\">평일 07:00 - 21:00<!-- --> </span>,\n",
       " <span class=\"_20pEw\">주말 10:00 - 20:00<!-- --> </span>]"
      ]
     },
     "execution_count": 15,
     "metadata": {},
     "output_type": "execute_result"
    }
   ],
   "source": [
    "main_soup.find_all('span',{'class':'_20pEw'})"
   ]
  },
  {
   "cell_type": "code",
   "execution_count": 60,
   "metadata": {
    "ExecuteTime": {
     "end_time": "2021-10-11T02:47:56.920124Z",
     "start_time": "2021-10-11T02:47:56.914138Z"
    }
   },
   "outputs": [],
   "source": [
    "store_hour=[]"
   ]
  },
  {
   "cell_type": "code",
   "execution_count": 61,
   "metadata": {
    "ExecuteTime": {
     "end_time": "2021-10-11T02:47:57.137541Z",
     "start_time": "2021-10-11T02:47:57.103632Z"
    }
   },
   "outputs": [],
   "source": [
    "open_time = main_soup.find_all('span',{'class':'_20pEw'}) #영업시간\n",
    "for hour in open_time:\n",
    "    hour = re.sub(html_cleaner,\"\",str(hour))\n",
    "    store_hour.append(hour)"
   ]
  },
  {
   "cell_type": "code",
   "execution_count": 62,
   "metadata": {
    "ExecuteTime": {
     "end_time": "2021-10-11T02:47:57.318061Z",
     "start_time": "2021-10-11T02:47:57.293125Z"
    }
   },
   "outputs": [
    {
     "data": {
      "text/plain": [
       "['평일 08:00 - 23:30 ', '토요일 08:30 - 23:30 ', '일요일 09:00 - 23:00 ']"
      ]
     },
     "execution_count": 62,
     "metadata": {},
     "output_type": "execute_result"
    }
   ],
   "source": [
    "store_hour"
   ]
  },
  {
   "cell_type": "code",
   "execution_count": null,
   "metadata": {},
   "outputs": [],
   "source": []
  }
 ],
 "metadata": {
  "hide_input": false,
  "kernelspec": {
   "display_name": "Python 3",
   "language": "python",
   "name": "python3"
  },
  "language_info": {
   "codemirror_mode": {
    "name": "ipython",
    "version": 3
   },
   "file_extension": ".py",
   "mimetype": "text/x-python",
   "name": "python",
   "nbconvert_exporter": "python",
   "pygments_lexer": "ipython3",
   "version": "3.8.5"
  },
  "toc": {
   "base_numbering": 1,
   "nav_menu": {},
   "number_sections": true,
   "sideBar": true,
   "skip_h1_title": false,
   "title_cell": "Table of Contents",
   "title_sidebar": "Contents",
   "toc_cell": false,
   "toc_position": {},
   "toc_section_display": true,
   "toc_window_display": false
  }
 },
 "nbformat": 4,
 "nbformat_minor": 4
}
