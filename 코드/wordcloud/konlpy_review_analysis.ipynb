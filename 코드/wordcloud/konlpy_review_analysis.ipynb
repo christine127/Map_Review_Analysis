{
 "cells": [
  {
   "cell_type": "code",
   "execution_count": 5,
   "id": "5ec64d71",
   "metadata": {},
   "outputs": [],
   "source": [
    "import pandas as pd\n",
    "import numpy as np\n",
    "from konlpy.tag import Kkma\n",
    "from nltk.corpus import stopwords"
   ]
  },
  {
   "cell_type": "code",
   "execution_count": 6,
   "id": "72623dde",
   "metadata": {},
   "outputs": [],
   "source": [
    "#불용어 사전\n",
    "stopwords = \"C:/Users/daye/Downloads/stopwords_j_v2.csv\"\n",
    "stopwords_df = pd.read_csv(stopwords)\n",
    "stopwords_df = stopwords_df.dropna(axis=0)"
   ]
  },
  {
   "cell_type": "code",
   "execution_count": 7,
   "id": "9607361a",
   "metadata": {},
   "outputs": [],
   "source": [
    "#불용어 집합으로 만들기\n",
    "stopwords_set = set(stopwords_df['word'])"
   ]
  },
  {
   "cell_type": "code",
   "execution_count": 8,
   "id": "63d5bb24",
   "metadata": {},
   "outputs": [],
   "source": [
    "def tag_counting(file):\n",
    "\n",
    "    f = open(file, \"r\")\n",
    "    lines = f.read()\n",
    "\n",
    "    kkma = Kkma()\n",
    "    words = kkma.morphs(lines)\n",
    "\n",
    "    from collections import Counter\n",
    "    count = Counter(words)\n",
    "    \n",
    "    tag_count = []\n",
    "    tags = []\n",
    "    \n",
    "    #dics = {'tag': n, 'count': c}\n",
    "    for n, c in count.items():\n",
    "        if n not in stopwords_set: \n",
    "            tags.append(n)\n",
    "            tag_count.append(c)\n",
    "    \n",
    "        df = pd.DataFrame({'words' : tags, 'words_count' : tag_count})\n",
    "        df.sort_values('words_count')\n",
    "    return df"
   ]
  },
  {
   "cell_type": "code",
   "execution_count": 106,
   "id": "79308613",
   "metadata": {},
   "outputs": [],
   "source": [
    "#브루클린으로 test\n",
    "tags_brooklyn = tag_counting(file = \"C:/Users/daye/practice/review_지점명제거/brooklyn_review.txt\")"
   ]
  },
  {
   "cell_type": "code",
   "execution_count": 107,
   "id": "9ffabce1",
   "metadata": {},
   "outputs": [
    {
     "data": {
      "text/html": [
       "<div>\n",
       "<style scoped>\n",
       "    .dataframe tbody tr th:only-of-type {\n",
       "        vertical-align: middle;\n",
       "    }\n",
       "\n",
       "    .dataframe tbody tr th {\n",
       "        vertical-align: top;\n",
       "    }\n",
       "\n",
       "    .dataframe thead th {\n",
       "        text-align: right;\n",
       "    }\n",
       "</style>\n",
       "<table border=\"1\" class=\"dataframe\">\n",
       "  <thead>\n",
       "    <tr style=\"text-align: right;\">\n",
       "      <th></th>\n",
       "      <th>words</th>\n",
       "      <th>words_count</th>\n",
       "    </tr>\n",
       "  </thead>\n",
       "  <tbody>\n",
       "    <tr>\n",
       "      <th>1</th>\n",
       "      <td>.</td>\n",
       "      <td>233</td>\n",
       "    </tr>\n",
       "    <tr>\n",
       "      <th>18</th>\n",
       "      <td>하</td>\n",
       "      <td>222</td>\n",
       "    </tr>\n",
       "    <tr>\n",
       "      <th>41</th>\n",
       "      <td>이</td>\n",
       "      <td>213</td>\n",
       "    </tr>\n",
       "    <tr>\n",
       "      <th>45</th>\n",
       "      <td>는</td>\n",
       "      <td>194</td>\n",
       "    </tr>\n",
       "    <tr>\n",
       "      <th>58</th>\n",
       "      <td>고</td>\n",
       "      <td>130</td>\n",
       "    </tr>\n",
       "    <tr>\n",
       "      <th>...</th>\n",
       "      <td>...</td>\n",
       "      <td>...</td>\n",
       "    </tr>\n",
       "    <tr>\n",
       "      <th>708</th>\n",
       "      <td>이즈</td>\n",
       "      <td>1</td>\n",
       "    </tr>\n",
       "    <tr>\n",
       "      <th>712</th>\n",
       "      <td>나무</td>\n",
       "      <td>1</td>\n",
       "    </tr>\n",
       "    <tr>\n",
       "      <th>715</th>\n",
       "      <td>향신료</td>\n",
       "      <td>1</td>\n",
       "    </tr>\n",
       "    <tr>\n",
       "      <th>719</th>\n",
       "      <td>쿠민</td>\n",
       "      <td>1</td>\n",
       "    </tr>\n",
       "    <tr>\n",
       "      <th>1314</th>\n",
       "      <td>뭐하</td>\n",
       "      <td>1</td>\n",
       "    </tr>\n",
       "  </tbody>\n",
       "</table>\n",
       "<p>1315 rows × 2 columns</p>\n",
       "</div>"
      ],
      "text/plain": [
       "     words  words_count\n",
       "1        .          233\n",
       "18       하          222\n",
       "41       이          213\n",
       "45       는          194\n",
       "58       고          130\n",
       "...    ...          ...\n",
       "708     이즈            1\n",
       "712     나무            1\n",
       "715    향신료            1\n",
       "719     쿠민            1\n",
       "1314    뭐하            1\n",
       "\n",
       "[1315 rows x 2 columns]"
      ]
     },
     "execution_count": 107,
     "metadata": {},
     "output_type": "execute_result"
    }
   ],
   "source": [
    "tags_brooklyn = tags_brooklyn.sort_values('words_count', ascending = False)"
   ]
  },
  {
   "cell_type": "code",
   "execution_count": 109,
   "id": "ddda466f",
   "metadata": {},
   "outputs": [],
   "source": [
    "tags_downtowner = tag_counting(file = \"C:/Users/daye/practice/review_지점명제거/downtowner_review.txt\")\n",
    "tags_lotteria = tag_counting(file = \"C:/Users/daye/practice/review_지점명제거/lotte_review_v2.txt\")\n",
    "tags_mom = tag_counting(file = \"C:/Users/daye/practice/review_지점명제거/mom_review.txt\")\n",
    "tags_mc = tag_counting(file = \"C:/Users/daye/practice/review_지점명제거/mc_review.txt\")\n",
    "tags_shake = tag_counting(file = \"C:/Users/daye/practice/review_지점명제거/shake_review.txt\")"
   ]
  },
  {
   "cell_type": "code",
   "execution_count": 110,
   "id": "3a6ffaf4",
   "metadata": {},
   "outputs": [],
   "source": [
    "tags_downtowner.to_excel('tags_downtowner.xlsx')\n",
    "tags_lotteria.to_excel('tags_lotteria.xlsx')\n",
    "tags_mom.to_excel('tags_mom.xlsx')\n",
    "tags_shake.to_excel('tags_shake.xlsx')\n",
    "tags_mc.to_excel('tags_mc.xlsx')"
   ]
  }
 ],
 "metadata": {
  "kernelspec": {
   "display_name": "Python 3",
   "language": "python",
   "name": "python3"
  },
  "language_info": {
   "codemirror_mode": {
    "name": "ipython",
    "version": 3
   },
   "file_extension": ".py",
   "mimetype": "text/x-python",
   "name": "python",
   "nbconvert_exporter": "python",
   "pygments_lexer": "ipython3",
   "version": "3.8.8"
  }
 },
 "nbformat": 4,
 "nbformat_minor": 5
}
