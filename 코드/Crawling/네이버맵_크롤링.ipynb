{
 "cells": [
  {
   "cell_type": "markdown",
   "metadata": {},
   "source": [
    "## 참고자료\n",
    "- 일부문자/tag포함한 xpath 찾기 : https://yeko90.tistory.com/entry/python-%EA%B8%B0%EC%B4%88-xpath%EB%A5%BC-%EC%9D%B4%EC%9A%A9%ED%95%98%EC%97%AC-%EC%9B%90%ED%95%98%EB%8A%94-%EC%A0%95%EB%B3%B4-%EC%B6%94%EC%B6%9C"
   ]
  },
  {
   "cell_type": "markdown",
   "metadata": {
    "ExecuteTime": {
     "end_time": "2021-10-06T09:40:33.097425Z",
     "start_time": "2021-10-06T09:40:33.081430Z"
    }
   },
   "source": [
    "# 라이브러리 import"
   ]
  },
  {
   "cell_type": "code",
   "execution_count": 1,
   "metadata": {
    "ExecuteTime": {
     "end_time": "2021-10-31T02:46:24.801708Z",
     "start_time": "2021-10-31T02:46:23.235983Z"
    }
   },
   "outputs": [],
   "source": [
    "import requests\n",
    "\n",
    "from bs4 import BeautifulSoup\n",
    "from selenium import webdriver\n",
    "from selenium.webdriver.common.keys import Keys\n",
    "from selenium.common.exceptions import NoSuchElementException\n",
    "from selenium.common.exceptions import ElementNotVisibleException\n",
    "\n",
    "\n",
    "from urllib.request import urlopen\n",
    "import json\n",
    "import re\n",
    "\n",
    "\n",
    "import time\n",
    "import datetime\n",
    "from datetime import timedelta\n",
    "from dateutil.relativedelta import relativedelta\n",
    "\n",
    "import pandas as pd \n",
    "import numpy as np\n",
    "from tqdm import tqdm"
   ]
  },
  {
   "cell_type": "markdown",
   "metadata": {
    "ExecuteTime": {
     "end_time": "2021-10-08T01:16:03.014191Z",
     "start_time": "2021-10-08T01:16:03.008209Z"
    }
   },
   "source": [
    "# 맵리뷰페이지 접속"
   ]
  },
  {
   "cell_type": "markdown",
   "metadata": {},
   "source": [
    "리뷰페이지 접속 방법\n",
    "- 자신이 찾을 지점의 고유번호를 입력하기\n",
    "- 고유번호 찾는 방법: \n",
    "    1. 네이버맵 사이트에서 [검색할 지점] 검색\n",
    "    2. 바 형태로 뜬 지점 정보에 마우스 우클릭\n",
    "    3. 프레임소스 보기 클릭\n",
    "    4. 소스보기 화면 url에서 [지점 번호] 찾기\n",
    "    ex. view-source:https://pcmap.place.naver.com/restaurant/[지점번호]/home?from=map&fromPanelNum=1&ts=1633655558076\n",
    "    \n",
    "- 리뷰페이지 url 예시 : https://pcmap.place.naver.com/restaurant/+[지점번호]+/home?from=map&amp;fromPanelNum=2&amp"
   ]
  },
  {
   "cell_type": "markdown",
   "metadata": {
    "ExecuteTime": {
     "end_time": "2021-10-15T04:09:03.724277Z",
     "start_time": "2021-10-15T04:09:03.713215Z"
    }
   },
   "source": [
    "## 매장명, 매장번호"
   ]
  },
  {
   "cell_type": "markdown",
   "metadata": {},
   "source": [
    "## 매장명 받아오기 - 롯데리아\n",
    "각 브랜드 홈페이지의 매장찾기에서 서울 전 지점명을 크롤링하기"
   ]
  },
  {
   "cell_type": "code",
   "execution_count": 2,
   "metadata": {
    "ExecuteTime": {
     "end_time": "2021-10-31T02:46:36.097743Z",
     "start_time": "2021-10-31T02:46:24.818352Z"
    },
    "scrolled": true
   },
   "outputs": [
    {
     "ename": "KeyboardInterrupt",
     "evalue": "",
     "output_type": "error",
     "traceback": [
      "\u001b[1;31m---------------------------------------------------------------------------\u001b[0m",
      "\u001b[1;31mKeyboardInterrupt\u001b[0m                         Traceback (most recent call last)",
      "\u001b[1;32m<ipython-input-2-1559d5552d6c>\u001b[0m in \u001b[0;36m<module>\u001b[1;34m\u001b[0m\n\u001b[0;32m      7\u001b[0m \u001b[0murl\u001b[0m \u001b[1;33m=\u001b[0m \u001b[1;34m'http://www.lotteria.com/Shop/Shop_List.asp#devCallShopList'\u001b[0m\u001b[1;33m\u001b[0m\u001b[1;33m\u001b[0m\u001b[0m\n\u001b[0;32m      8\u001b[0m \u001b[0mdriver\u001b[0m\u001b[1;33m.\u001b[0m\u001b[0mget\u001b[0m\u001b[1;33m(\u001b[0m\u001b[0murl\u001b[0m\u001b[1;33m)\u001b[0m\u001b[1;33m\u001b[0m\u001b[1;33m\u001b[0m\u001b[0m\n\u001b[1;32m----> 9\u001b[1;33m \u001b[0mtime\u001b[0m\u001b[1;33m.\u001b[0m\u001b[0msleep\u001b[0m\u001b[1;33m(\u001b[0m\u001b[1;36m5\u001b[0m\u001b[1;33m)\u001b[0m\u001b[1;33m\u001b[0m\u001b[1;33m\u001b[0m\u001b[0m\n\u001b[0m",
      "\u001b[1;31mKeyboardInterrupt\u001b[0m: "
     ]
    }
   ],
   "source": [
    "chrome_path = 'C:/Users/chris/0 hyunji/Marketing/Crawling/' \n",
    "options = webdriver.ChromeOptions()\n",
    "# options.add_argument('headless')#창 안 뜨게 설정\n",
    "driver = webdriver.Chrome(chrome_path +'chromedriver.exe',options=options)# 크롬 경로\n",
    "driver.implicitly_wait(3)\n",
    "\n",
    "url = 'http://www.lotteria.com/Shop/Shop_List.asp#devCallShopList'\n",
    "driver.get(url)\n",
    "time.sleep(5)"
   ]
  },
  {
   "cell_type": "code",
   "execution_count": null,
   "metadata": {
    "ExecuteTime": {
     "end_time": "2021-10-31T02:46:36.101527Z",
     "start_time": "2021-10-31T02:46:24.063Z"
    }
   },
   "outputs": [],
   "source": [
    "html_cleaner = re.compile('<.*?>')"
   ]
  },
  {
   "cell_type": "code",
   "execution_count": null,
   "metadata": {
    "ExecuteTime": {
     "end_time": "2021-10-31T02:46:36.104520Z",
     "start_time": "2021-10-31T02:46:24.244Z"
    },
    "scrolled": true
   },
   "outputs": [],
   "source": [
    "store_lst = []\n",
    "html= driver.page_source\n",
    "soup = BeautifulSoup(html,'html.parser')\n",
    "for s in soup.find_all('td',{'class':'first num'}):\n",
    "    name = re.sub(html_cleaner,\"\",str(s))\n",
    "    store_lst.append(name)"
   ]
  },
  {
   "cell_type": "code",
   "execution_count": 9,
   "metadata": {
    "ExecuteTime": {
     "end_time": "2021-10-28T06:11:15.876766Z",
     "start_time": "2021-10-28T06:11:15.472575Z"
    }
   },
   "outputs": [],
   "source": [
    "lotteria = pd.DataFrame(store_lst)\n",
    "lotteria.columns= ['지점명']\n",
    "lotteria.to_excel('롯데리아.xlsx', index= False)"
   ]
  },
  {
   "cell_type": "markdown",
   "metadata": {
    "ExecuteTime": {
     "end_time": "2021-10-28T08:05:46.365423Z",
     "start_time": "2021-10-28T08:05:46.321573Z"
    }
   },
   "source": [
    "다운타우너/브루클린/쉐이크쉑"
   ]
  },
  {
   "cell_type": "code",
   "execution_count": 5,
   "metadata": {
    "ExecuteTime": {
     "end_time": "2021-10-31T02:02:58.493985Z",
     "start_time": "2021-10-31T02:02:58.474538Z"
    }
   },
   "outputs": [],
   "source": [
    "store_list= pd.DataFrame()\n",
    "store_list['지점명']= ['강남','청담','두타','센트럴시티','종각','영등포 타임스퀘어','용산 아이파크몰','노원','코엑스','홍대','신림']\n",
    "store_list['지점번호']= ' '"
   ]
  },
  {
   "cell_type": "markdown",
   "metadata": {},
   "source": [
    "## 매장 지점코드 받아오기"
   ]
  },
  {
   "cell_type": "code",
   "execution_count": 6,
   "metadata": {
    "ExecuteTime": {
     "end_time": "2021-10-31T02:03:01.124673Z",
     "start_time": "2021-10-31T02:03:01.106797Z"
    }
   },
   "outputs": [],
   "source": [
    "# store_list = pd.read_excel('./롯데리아.xlsx')\n",
    "# store_list['지점번호']= ' '"
   ]
  },
  {
   "cell_type": "code",
   "execution_count": 10,
   "metadata": {
    "ExecuteTime": {
     "end_time": "2021-10-31T02:04:25.878396Z",
     "start_time": "2021-10-31T02:04:23.436543Z"
    }
   },
   "outputs": [],
   "source": [
    "chrome_path = 'C:/Users/chris/0 hyunji/Marketing/Crawling/' \n",
    "options = webdriver.ChromeOptions()\n",
    "# options.add_argument('headless')#창 안 뜨게 설정\n",
    "driver = webdriver.Chrome(chrome_path +'chromedriver.exe',options=options)# 크롬 경로\n",
    "driver.implicitly_wait(3)"
   ]
  },
  {
   "cell_type": "code",
   "execution_count": 13,
   "metadata": {
    "ExecuteTime": {
     "end_time": "2021-10-31T02:07:59.902968Z",
     "start_time": "2021-10-31T02:07:01.605977Z"
    },
    "scrolled": true
   },
   "outputs": [
    {
     "name": "stdout",
     "output_type": "stream",
     "text": [
      "쉐이크쉑 강남점 0\n",
      "https://map.naver.com/v5/search/%EC%89%90%EC%9D%B4%ED%81%AC%EC%89%91%20%EC%A2%85%EA%B0%81%EC%A0%90?c=14138676.6033362,4511130.9846631,15,0,0,0,dh\n",
      "https://map.naver.com/v5/search/%EC%89%90%EC%9D%B4%ED%81%AC%EC%89%91%20%EC%98%81%EB%93%B1%ED%8F%AC%20%ED%83%80%EC%9E%84%EC%8A%A4%ED%80%98%EC%96%B4%EC%A0%90?c=14138676.6033362,4511130.9846631,15,0,0,0,dh\n",
      "https://map.naver.com/v5/search/%EC%89%90%EC%9D%B4%ED%81%AC%EC%89%91%20%EC%BD%94%EC%97%91%EC%8A%A4%EC%A0%90?c=14138676.6033362,4511130.9846631,15,0,0,0,dh\n",
      "https://map.naver.com/v5/search/%EC%89%90%EC%9D%B4%ED%81%AC%EC%89%91%20%EC%8B%A0%EB%A6%BC%EC%A0%90?c=14138676.6033362,4511130.9846631,15,0,0,0,dh\n"
     ]
    }
   ],
   "source": [
    "for i in store_list.loc[store_list['지점번호']==' ','지점명'].index:\n",
    "    try: \n",
    "        url = 'https://maps.naver.com'\n",
    "        driver.get(url)\n",
    "        time.sleep(5)\n",
    "        store_name = '쉐이크쉑 '+store_list.loc[i,'지점명']+'점'\n",
    "#         store_name = store_list.loc[i,'지점명']\n",
    "\n",
    "        driver.find_element_by_xpath('//input[contains(@autocomplete,\"off\")]').clear()\n",
    "        driver.find_element_by_xpath('//input[contains(@autocomplete,\"off\")]').send_keys(store_name)\n",
    "        driver.find_element_by_xpath('//input[contains(@autocomplete,\"off\")]').send_keys(Keys.ENTER)\n",
    "\n",
    "        driver.switch_to.frame(driver.find_elements_by_xpath('//iframe[contains(@id,\"searchIframe\")]')[0])\n",
    "        html = driver.page_source\n",
    "#         driver.find_element_by_xpath(f'//a[contains(@class,\"Ow5Yt\")]'.format(store_name)).click()\n",
    "        driver.find_element_by_xpath(f'//span[contains(text(),\"{store_name}\")]/../..'.format(store_name)).click()\n",
    "        print(driver.current_url)\n",
    "        store_number = re.findall('place\\/'+'[0-9]+',driver.current_url)[0].split('/')[1]\n",
    "        store_list.loc[i,'지점번호']= store_number\n",
    "    except:\n",
    "        print(store_name, i)\n",
    "        pass\n",
    "    time.sleep(np.random.uniform(3,5))\n"
   ]
  },
  {
   "cell_type": "markdown",
   "metadata": {},
   "source": [
    "브루클린 더 버거 조인트"
   ]
  },
  {
   "cell_type": "code",
   "execution_count": 11,
   "metadata": {
    "ExecuteTime": {
     "end_time": "2021-10-31T02:06:39.423156Z",
     "start_time": "2021-10-31T02:04:29.652126Z"
    },
    "scrolled": false
   },
   "outputs": [
    {
     "name": "stdout",
     "output_type": "stream",
     "text": [
      "https://map.naver.com/v5/search/%EC%89%90%EC%9D%B4%ED%81%AC%EC%89%91%20%EA%B0%95%EB%82%A8%EC%A0%90?c=14139972.1729659,4509432.4074105,15,0,0,0,dh\n",
      "쉐이크쉑 강남점 0\n",
      "https://map.naver.com/v5/search/%EC%89%90%EC%9D%B4%ED%81%AC%EC%89%91%20%EC%B2%AD%EB%8B%B4%EC%A0%90/place/876646309?c=14138676.6033362,4511130.9846631,15,0,0,0,dh&placePath=%3Fentry%253Dbmp\n",
      "https://map.naver.com/v5/search/%EC%89%90%EC%9D%B4%ED%81%AC%EC%89%91%20%EB%91%90%ED%83%80%EC%A0%90/place/855293917?c=14138676.6033362,4511130.9846631,15,0,0,0,dh&placePath=%3Fentry%253Dbmp\n",
      "https://map.naver.com/v5/search/%EC%89%90%EC%9D%B4%ED%81%AC%EC%89%91%20%EC%84%BC%ED%8A%B8%EB%9F%B4%EC%8B%9C%ED%8B%B0%EC%A0%90/place/1553797864?c=14138676.6033362,4511130.9846631,15,0,0,0,dh&placePath=%3Fentry%253Dbmp\n",
      "https://map.naver.com/v5/search/%EC%89%90%EC%9D%B4%ED%81%AC%EC%89%91%20%EC%A2%85%EA%B0%81%EC%A0%90?c=14138676.6033362,4511130.9846631,15,0,0,0,dh\n",
      "쉐이크쉑 종각점 4\n",
      "https://map.naver.com/v5/search/%EC%89%90%EC%9D%B4%ED%81%AC%EC%89%91%20%EC%98%81%EB%93%B1%ED%8F%AC%20%ED%83%80%EC%9E%84%EC%8A%A4%ED%80%98%EC%96%B4%EC%A0%90?c=14138676.6033362,4511130.9846631,15,0,0,0,dh\n",
      "쉐이크쉑 영등포 타임스퀘어점 5\n",
      "https://map.naver.com/v5/search/%EC%89%90%EC%9D%B4%ED%81%AC%EC%89%91%20%EC%9A%A9%EC%82%B0%20%EC%95%84%EC%9D%B4%ED%8C%8C%ED%81%AC%EB%AA%B0%EC%A0%90/place/1958435359?c=14133184.5894662,4513209.6607917,15,0,0,0,dh&placePath=%3Fentry%253Dbmp\n",
      "https://map.naver.com/v5/search/%EC%89%90%EC%9D%B4%ED%81%AC%EC%89%91%20%EB%85%B8%EC%9B%90%EC%A0%90/place/1965669813?c=14143912.8940719,4530818.2686659,15,0,0,0,dh&placePath=%3Fentry%253Dbmp\n",
      "쉐이크쉑 코엑스점 8\n",
      "https://map.naver.com/v5/search/%EC%89%90%EC%9D%B4%ED%81%AC%EC%89%91%20%ED%99%8D%EB%8C%80%EC%A0%90/place/1629278539?c=14128860.0053601,4517126.2848352,15,0,0,0,dh&placePath=%3Fentry%253Dbmp\n",
      "https://map.naver.com/v5/search/%EC%89%90%EC%9D%B4%ED%81%AC%EC%89%91%20%EC%8B%A0%EB%A6%BC%EC%A0%90?c=14138676.6033362,4511130.9846631,15,0,0,0,dh\n",
      "쉐이크쉑 신림점 10\n"
     ]
    }
   ],
   "source": [
    "for i in store_list.loc[store_list['지점번호']==' ','지점명'].index:\n",
    "    try:\n",
    "        url = 'https://maps.naver.com'\n",
    "\n",
    "        driver.get(url)\n",
    "        time.sleep(5)\n",
    "        store_name = '쉐이크쉑 '+store_list.loc[i,'지점명']+'점'\n",
    "#         store_name = store_list.loc[i,'지점명']\n",
    "\n",
    "        driver.find_element_by_xpath('//input[contains(@autocomplete,\"off\")]').clear()\n",
    "        driver.find_element_by_xpath('//input[contains(@autocomplete,\"off\")]').send_keys(store_name)\n",
    "        driver.find_element_by_xpath('//input[contains(@autocomplete,\"off\")]').send_keys(Keys.ENTER)\n",
    "\n",
    "        driver.switch_to.frame(driver.find_elements_by_xpath('//iframe[contains(@id,\"searchIframe\")]')[0])\n",
    "        # html = driver.page_source\n",
    "        # driver.find_element_by_xpath(f'//a[contains(@class,\"Ow5Yt\")]'.format(store_name)).click()\n",
    "        driver.find_element_by_xpath(f'//span[text()=\"{store_name}\"]/../..'.format(store_name)).click()\n",
    "        html = driver.page_source\n",
    "        print(driver.current_url)\n",
    "        store_number = re.findall('place\\/'+'[0-9]+',driver.current_url)[0].split('/')[1]\n",
    "        store_list.loc[i,'지점번호']= store_number\n",
    "    except:\n",
    "        print(store_name,i)\n",
    "        pass\n",
    "    time.sleep(np.random.uniform(3,5))"
   ]
  },
  {
   "cell_type": "markdown",
   "metadata": {
    "ExecuteTime": {
     "end_time": "2021-10-28T12:33:33.110448Z",
     "start_time": "2021-10-28T12:33:33.084533Z"
    }
   },
   "source": [
    "다운타우너"
   ]
  },
  {
   "cell_type": "code",
   "execution_count": 217,
   "metadata": {
    "ExecuteTime": {
     "end_time": "2021-10-28T12:25:16.163402Z",
     "start_time": "2021-10-28T12:25:16.146259Z"
    },
    "scrolled": false
   },
   "outputs": [],
   "source": [
    "# for i in store_list.loc[store_list['지점번호']==' ','지점명'].index:\n",
    "#     try: \n",
    "#         url = 'https://maps.naver.com'\n",
    "#         driver.get(url)\n",
    "#         time.sleep(5)\n",
    "#         #         store_name = '롯데리아 '+store_list.loc[i,'지점명']\n",
    "#         store_name = store_list.loc[i,'지점명']\n",
    "\n",
    "#         driver.find_element_by_xpath('//input[contains(@autocomplete,\"off\")]').clear()\n",
    "#         driver.find_element_by_xpath('//input[contains(@autocomplete,\"off\")]').send_keys(store_name)\n",
    "#         driver.find_element_by_xpath('//input[contains(@autocomplete,\"off\")]').send_keys(Keys.ENTER)\n",
    "\n",
    "#         driver.switch_to.frame(driver.find_elements_by_xpath('//iframe[contains(@id,\"searchIframe\")]')[0])\n",
    "#         html = driver.page_source\n",
    "#         #         driver.find_element_by_xpath(f'//a[contains(@class,\"Ow5Yt\")]'.format(store_name)).click()\n",
    "#         # driver.find_element_by_xpath(f'//span[contains(text(),\"{store_name}\")]/../..'.format(store_name)).click()\n",
    "#         print(driver.current_url)\n",
    "#         store_number = re.findall('place\\/'+'[0-9]+',driver.current_url)[0].split('/')[1]\n",
    "#         store_list.loc[i,'지점번호']= store_number\n",
    "#     except:\n",
    "#         print(store_name, i)\n",
    "#         pass\n",
    "#     time.sleep(np.random.uniform(3,5))\n"
   ]
  },
  {
   "cell_type": "code",
   "execution_count": 17,
   "metadata": {
    "ExecuteTime": {
     "end_time": "2021-10-31T02:08:48.950463Z",
     "start_time": "2021-10-31T02:08:48.651461Z"
    },
    "scrolled": true
   },
   "outputs": [],
   "source": [
    "store_list.to_excel('./data/.xlsx',index=False)"
   ]
  },
  {
   "cell_type": "markdown",
   "metadata": {},
   "source": [
    "## 매장명, 매장번호 데이터 불러오기"
   ]
  },
  {
   "cell_type": "code",
   "execution_count": 109,
   "metadata": {
    "ExecuteTime": {
     "end_time": "2021-10-31T12:04:26.339871Z",
     "start_time": "2021-10-31T12:04:26.270999Z"
    }
   },
   "outputs": [],
   "source": [
    "store_list = pd.read_excel('./data/롯데리아.xlsx')"
   ]
  },
  {
   "cell_type": "code",
   "execution_count": 110,
   "metadata": {
    "ExecuteTime": {
     "end_time": "2021-10-31T12:04:27.564721Z",
     "start_time": "2021-10-31T12:04:27.537720Z"
    },
    "scrolled": true
   },
   "outputs": [
    {
     "data": {
      "text/html": [
       "<div>\n",
       "<style scoped>\n",
       "    .dataframe tbody tr th:only-of-type {\n",
       "        vertical-align: middle;\n",
       "    }\n",
       "\n",
       "    .dataframe tbody tr th {\n",
       "        vertical-align: top;\n",
       "    }\n",
       "\n",
       "    .dataframe thead th {\n",
       "        text-align: right;\n",
       "    }\n",
       "</style>\n",
       "<table border=\"1\" class=\"dataframe\">\n",
       "  <thead>\n",
       "    <tr style=\"text-align: right;\">\n",
       "      <th></th>\n",
       "      <th>지점명</th>\n",
       "      <th>지점번호</th>\n",
       "    </tr>\n",
       "  </thead>\n",
       "  <tbody>\n",
       "    <tr>\n",
       "      <th>0</th>\n",
       "      <td>신정네거리역</td>\n",
       "      <td>1428648745</td>\n",
       "    </tr>\n",
       "    <tr>\n",
       "      <th>1</th>\n",
       "      <td>청계산입구역</td>\n",
       "      <td>1024291405</td>\n",
       "    </tr>\n",
       "    <tr>\n",
       "      <th>2</th>\n",
       "      <td>홈플러스강동</td>\n",
       "      <td>1321912505</td>\n",
       "    </tr>\n",
       "    <tr>\n",
       "      <th>3</th>\n",
       "      <td>홈플러스월드컵</td>\n",
       "      <td>1154415775</td>\n",
       "    </tr>\n",
       "    <tr>\n",
       "      <th>4</th>\n",
       "      <td>용산역사</td>\n",
       "      <td>1517724323</td>\n",
       "    </tr>\n",
       "    <tr>\n",
       "      <th>...</th>\n",
       "      <td>...</td>\n",
       "      <td>...</td>\n",
       "    </tr>\n",
       "    <tr>\n",
       "      <th>174</th>\n",
       "      <td>언더랜드</td>\n",
       "      <td>11825111</td>\n",
       "    </tr>\n",
       "    <tr>\n",
       "      <th>175</th>\n",
       "      <td>서울랜드점</td>\n",
       "      <td>11825012</td>\n",
       "    </tr>\n",
       "    <tr>\n",
       "      <th>176</th>\n",
       "      <td>소공2호</td>\n",
       "      <td>11825032</td>\n",
       "    </tr>\n",
       "    <tr>\n",
       "      <th>177</th>\n",
       "      <td>동서울터미널</td>\n",
       "      <td>11824729</td>\n",
       "    </tr>\n",
       "    <tr>\n",
       "      <th>178</th>\n",
       "      <td>봉천</td>\n",
       "      <td>36893807</td>\n",
       "    </tr>\n",
       "  </tbody>\n",
       "</table>\n",
       "<p>179 rows × 2 columns</p>\n",
       "</div>"
      ],
      "text/plain": [
       "         지점명        지점번호\n",
       "0     신정네거리역  1428648745\n",
       "1     청계산입구역  1024291405\n",
       "2     홈플러스강동  1321912505\n",
       "3    홈플러스월드컵  1154415775\n",
       "4       용산역사  1517724323\n",
       "..       ...         ...\n",
       "174     언더랜드    11825111\n",
       "175    서울랜드점    11825012\n",
       "176     소공2호    11825032\n",
       "177   동서울터미널    11824729\n",
       "178       봉천    36893807\n",
       "\n",
       "[179 rows x 2 columns]"
      ]
     },
     "execution_count": 110,
     "metadata": {},
     "output_type": "execute_result"
    }
   ],
   "source": [
    "store_list#.head()"
   ]
  },
  {
   "cell_type": "markdown",
   "metadata": {},
   "source": [
    "## 리뷰 탭에서 더보기 클릭"
   ]
  },
  {
   "cell_type": "code",
   "execution_count": 5,
   "metadata": {
    "ExecuteTime": {
     "end_time": "2021-10-31T02:46:45.003208Z",
     "start_time": "2021-10-31T02:46:44.983262Z"
    }
   },
   "outputs": [],
   "source": [
    "#홈에서의 더보기 경로는 홈페이지마다 위치가 달라지므로 f12 버튼 눌러서 파악해야 함\n",
    "def review_seen(review_driver, see_more_xpath):\n",
    "    #홈에서 스크롤 다운\n",
    "    review_driver.execute_script(\"window.scrollTo(0, document.body.scrollHeight)\")\n",
    "    time.sleep(np.random.uniform(0.5,2))\n",
    "    #홈에서 방문자(블로그) 리뷰 더보기 클릭\n",
    "    review_driver.find_element_by_xpath(see_more_xpath).click()\n",
    "\n",
    "def all_visit_review_seen(review_driver):\n",
    "    #방문자 리뷰에서 더보기 탭 끝까지 클릭하기 \n",
    "    while True:\n",
    "        try:\n",
    "            review_driver.find_element_by_xpath('//*[@id=\"app-root\"]/div/div/div[2]/div[5]/div[4]/div[4]/div[2]/a').click()\n",
    "            review_driver.implicitly_wait(np.random.uniform(1,2))\n",
    "        except:\n",
    "            break\n",
    "\n",
    "def all_blog_review_seen(review_driver):\n",
    "    # 블로그 리뷰에서 더보기 탭 끝까지 클릭하기\n",
    "    while True:\n",
    "        try:\n",
    "            review_driver.find_element_by_xpath('//*[@id=\"app-root\"]/div/div/div[2]/div[5]/div[4]/div[2]/div[2]/a').click()\n",
    "            review_driver.implicitly_wait(np.random.uniform(1,2))\n",
    "        except:\n",
    "            break"
   ]
  },
  {
   "cell_type": "markdown",
   "metadata": {},
   "source": [
    "# 방문자 리뷰"
   ]
  },
  {
   "cell_type": "markdown",
   "metadata": {},
   "source": [
    "## 필요한 정보 추출하기 - 정규표현식 \n",
    "- 평균평점: 사용자가 다른 리뷰에서 준 평점 합산한 것의 평균\n",
    "- 평점 : 사용자가 해당 장소에 대하여 평가한 평점 \n",
    "- 방문횟수\n",
    "- 날짜\n",
    "- 리뷰(한줄평): 빈칸이면 'None'\n"
   ]
  },
  {
   "cell_type": "markdown",
   "metadata": {},
   "source": [
    "**~cleaner: 특정 표현 제외** "
   ]
  },
  {
   "cell_type": "code",
   "execution_count": 99,
   "metadata": {
    "ExecuteTime": {
     "end_time": "2021-10-31T06:25:16.678625Z",
     "start_time": "2021-10-31T06:25:16.668652Z"
    }
   },
   "outputs": [],
   "source": [
    "# html 태그 제거\n",
    "html_cleaner = re.compile('<.*?>')\n",
    "#평점 이외 표현 제거\n",
    "score_cleaner = re.compile(r'\\d{4}.\\d{2}.\\d{3}'+'번째 방문영수증')\n",
    "hangul_cleaner = re.compile('[가-힣]+')\n"
   ]
  },
  {
   "cell_type": "markdown",
   "metadata": {
    "ExecuteTime": {
     "end_time": "2021-10-08T15:20:36.519138Z",
     "start_time": "2021-10-08T15:20:36.507573Z"
    }
   },
   "source": [
    "**~format : 특정표현 포함**\n"
   ]
  },
  {
   "cell_type": "code",
   "execution_count": 31,
   "metadata": {
    "ExecuteTime": {
     "end_time": "2021-10-31T02:58:06.141162Z",
     "start_time": "2021-10-31T02:58:06.120446Z"
    }
   },
   "outputs": [],
   "source": [
    "#평균 평점 추출용 : 평균평점+ 숫자\n",
    "avg_score_format = re.compile('평균별점'+r'[0-9.]+')\n",
    "#날짜 추출용: YYYY.MM.DD\n",
    "# date_format = re.compile(r'\\d{4}.\\d{2}.\\d{2}')\n",
    "num_format = re.compile('[0-9\\.]+')\n",
    "#방문횟수 추출용: <n>번째 방문영수증 --> <n> \n",
    "visit_time_format = re.compile(r'\\d'+'번째 방문') "
   ]
  },
  {
   "cell_type": "markdown",
   "metadata": {},
   "source": [
    "## take_info: 필요한 정보를 데이터프레임로 정리\n",
    "- 리뷰, 방문횟수, 작성날짜, 평균평점, 평점"
   ]
  },
  {
   "cell_type": "code",
   "execution_count": 32,
   "metadata": {
    "ExecuteTime": {
     "end_time": "2021-10-31T02:58:29.572928Z",
     "start_time": "2021-10-31T02:58:29.560179Z"
    }
   },
   "outputs": [],
   "source": [
    "def take_info(soup):\n",
    "    visitor_reviews_lst = [] #리뷰(한줄평)\n",
    "    visit_times_lst = [] #방문횟수\n",
    "    review_dates_lst = [] #작성날짜\n",
    "    avg_score_lst = [] #평균평점\n",
    "    score_lst = [] #평점\n",
    "\n",
    "    for s in review_soup.find_all('li',{'class':'_3FaRE'}):\n",
    "\n",
    "        visit_info = s.find('div',{'class':'_3-LAD'})\n",
    "\n",
    "        if visit_info is None:\n",
    "            continue\n",
    "        visit_info = re.sub(html_cleaner,\"\",str(visit_info)) #html 태그 제거 \n",
    "        info = re.findall(num_format, visit_info)\n",
    "        if len(info) <3:\n",
    "            #별점\n",
    "            score_lst.append('None')\n",
    "            #방문일자\n",
    "            try: \n",
    "                rev_date = pd.to_datetime('2021.'+info[0], format = '%Y.%m.%d.')\n",
    "            except:\n",
    "                rev_date = pd.to_datetime('20'+info[0], format = '%Y.%m.%d.')\n",
    "            review_dates_lst.append(rev_date)\n",
    "            #방문횟수\n",
    "            visit_times_lst.append(info[1])\n",
    "\n",
    "        else:\n",
    "            #별점\n",
    "            score_lst.append(info[0])\n",
    "            #방문일자\n",
    "            try: \n",
    "                rev_date = pd.to_datetime('2021.'+info[1], format = '%Y.%m.%d.')\n",
    "            except:\n",
    "                rev_date = pd.to_datetime('20'+info[1], format = '%Y.%m.%d.')\n",
    "            review_dates_lst.append(rev_date)\n",
    "            #방문횟수\n",
    "            visit_times_lst.append(info[2])\n",
    "        ##-------------리뷰 추출\n",
    "        try:\n",
    "            review = s.find('span',{'class':'WoYOw'})\n",
    "            review = re.sub(html_cleaner,\"\",str(review))\n",
    "            visitor_reviews_lst.append(review)\n",
    "\n",
    "\n",
    "        except:\n",
    "            visitor_reviews_lst.append('None')\n",
    "     \n",
    "    #데이터 프레임으로 만들기 \n",
    "    visit_reviews = pd.DataFrame({'평점':score_lst,'한줄평':visitor_reviews_lst,'작성날짜':review_dates_lst,'방문횟수':visit_times_lst})\n",
    "\n",
    "    return visit_reviews"
   ]
  },
  {
   "cell_type": "code",
   "execution_count": 9,
   "metadata": {
    "ExecuteTime": {
     "end_time": "2021-10-31T02:46:46.723504Z",
     "start_time": "2021-10-31T02:46:46.710517Z"
    }
   },
   "outputs": [],
   "source": [
    "# def take_info(soup):\n",
    "#     visitor_reviews_lst = [] #리뷰(한줄평)\n",
    "#     visit_times_lst = [] #방문횟수\n",
    "#     review_dates_lst = [] #작성날짜\n",
    "#     avg_score_lst = [] #평균평점\n",
    "#     score_lst = [] #평점\n",
    "\n",
    "\n",
    "#     for s in soup.find_all('div',{'class':'_1Z_GL'}):\n",
    "\n",
    "#         ##----------평균평점 추출\n",
    "#         personal_info = s.find('div',{'class':'_23Rml'})\n",
    "#         personal_info = re.sub(html_cleaner,\"\",str(personal_info))#html 태그 제거 \n",
    "\n",
    "#         try:#평균평점에 소수점이 있는 경우\n",
    "#             matchobj = avg_score_format.search(str(personal_info))\n",
    "#             avg_score = matchobj.group()\n",
    "#             avg_score_lst.append(avg_score[4:])\n",
    "\n",
    "#         except:#평균평점이 정수인 경우\n",
    "#             continue\n",
    "\n",
    "\n",
    "#         ##-----------방문정보(평점, 날짜, 방문횟수) 추출\n",
    "#         visit_info = s.find('div',{'class':'_1ZcDn'})\n",
    "#         visit_info = re.sub(html_cleaner,\"\",str(visit_info)) #html 태그 제거 \n",
    "\n",
    "#         #날짜 추출\n",
    "#         matchobj = date_format.search(visit_info)\n",
    "#         rev_date = matchobj.group()\n",
    "#         review_dates_lst.append(rev_date)\n",
    "\n",
    "#         #방문횟수 추출\n",
    "#         matchobj = visit_time_format.search(visit_info)\n",
    "#         visit_num = matchobj.group()\n",
    "#         visit_times_lst.append(visit_num[0])\n",
    "\n",
    "#         #평점 추출\n",
    "#         score = re.sub(score_cleaner,\"\",visit_info)\n",
    "#         score_lst.append(score)\n",
    "\n",
    "\n",
    "#         ##-------------리뷰 추출\n",
    "#         try:\n",
    "#             review = s.find('div',{'class':'PVBo8'})\n",
    "#             review = re.sub(html_cleaner,\"\",str(review))\n",
    "#             visitor_reviews_lst.append(review)\n",
    "\n",
    "\n",
    "#         except:\n",
    "#             visitor_reviews_lst.append('None')\n",
    "            \n",
    "#     #데이터 프레임으로 만들기 \n",
    "#     visit_reviews = pd.DataFrame({'평균평점':avg_score_lst,'평점':score_lst,'한줄평':visitor_reviews_lst,'작성날짜':review_dates_lst,'방문횟수':visit_times_lst})\n",
    "        \n",
    "#     return visit_reviews"
   ]
  },
  {
   "cell_type": "markdown",
   "metadata": {},
   "source": [
    "## 전체 크롤링 코드"
   ]
  },
  {
   "cell_type": "code",
   "execution_count": 10,
   "metadata": {
    "ExecuteTime": {
     "end_time": "2021-10-31T02:46:47.302810Z",
     "start_time": "2021-10-31T02:46:47.293834Z"
    },
    "scrolled": true
   },
   "outputs": [],
   "source": [
    "def visit_crawling(store_number,see_more_xpath):\n",
    "    chrome_path = 'C:/Users/chris/0 hyunji/Marketing/Crawling/' \n",
    "    options = webdriver.ChromeOptions()\n",
    "#     options.add_argument('headless')#창 안 뜨게 설정\n",
    "    review_driver = webdriver.Chrome(chrome_path +'chromedriver.exe',options=options)# 크롬 경로\n",
    "    review_driver.implicitly_wait(np.random.uniform(1.5,3))\n",
    "    \n",
    "    #url 접속\n",
    "    review_url = 'https://pcmap.place.naver.com/restaurant/'+str(store_number)+'/home?from=map&amp;fromPanelNum=2&amp'\n",
    "    review_driver.get(review_url)\n",
    "    time.sleep(np.random.uniform(2,5))\n",
    "\n",
    "    # store_name= []\n",
    "    main_html = review_driver.page_source\n",
    "    main_soup = BeautifulSoup(main_html,'html.parser')\n",
    "    store_name=main_soup.find('span', {'class': '_3XamX'}) #이름\n",
    "    store_name=re.sub(html_cleaner, \"\", str(store_name))\n",
    "    #     store_name.append(name)\n",
    "\n",
    "    #스크롤 다운 후 방문자 리뷰 더보기 클릭\n",
    "    try:\n",
    "        review_seen(review_driver, visit_xpath)\n",
    "    except:\n",
    "        review_seen(review_driver, visit_xpath)\n",
    "\n",
    "    # #방문자 리뷰 더보기 끝까지 클릭\n",
    "    all_visit_review_seen(review_driver)\n",
    "    review_html = review_driver.page_source\n",
    "    review_soup = BeautifulSoup(review_html,'html.parser')\n",
    "\n",
    "    #review_df에 필요한 정보 담기\n",
    "    review_df = take_info(review_soup)\n",
    "    review_df.insert(0,'지점명확인',store_name,allow_duplicates=False)\n",
    "    review_driver.close()\n",
    "    return review_df"
   ]
  },
  {
   "cell_type": "markdown",
   "metadata": {},
   "source": [
    "# 블로그 리뷰"
   ]
  },
  {
   "cell_type": "markdown",
   "metadata": {},
   "source": [
    "## blog_link_list, blog_review_content \n",
    "- 블로그 리뷰 링크 받기\n",
    "- 블로그 내의 내용 받기"
   ]
  },
  {
   "cell_type": "code",
   "execution_count": null,
   "metadata": {},
   "outputs": [],
   "source": []
  },
  {
   "cell_type": "code",
   "execution_count": 100,
   "metadata": {
    "ExecuteTime": {
     "end_time": "2021-10-31T06:25:39.605184Z",
     "start_time": "2021-10-31T06:25:39.584017Z"
    }
   },
   "outputs": [],
   "source": [
    "def blog_link_list(blog_soup):\n",
    "    global html_cleaner, hangul_cleaner\n",
    "    blog_url_lst=[]\n",
    "    date_lst= []\n",
    "    before_1y = datetime.datetime.now() - timedelta(days = 365)\n",
    "    for s in blog_soup.find_all('li',{'class':'_3OyGD'}):\n",
    "        date = s.find('span',{'class':'_2M6JC'})\n",
    "        date = re.sub(html_cleaner,\"\", str(date))\n",
    "        if '일 전' in date:\n",
    "            date = datetime.datetime.now() - timedelta(days = int(date[0]))\n",
    "        elif '시간 전' in date:\n",
    "            date = datetime.datetime.now()\n",
    "        else:\n",
    "            date = re.sub(hangul_cleaner,\"\", str(date))\n",
    "            try:\n",
    "                date = pd.to_datetime(date,format='%m.%d.')+relativedelta(years = 121)\n",
    "\n",
    "            except:\n",
    "                continue #1년 전 글 \n",
    "    #             date = pd.to_datetime('20'+date,format='%Y.%m.%d.')        \n",
    "        url = s.find('a')['href']\n",
    "        blog_url_lst.append(url)\n",
    "        date_lst.append(date) \n",
    "\n",
    "    blog_df = pd.DataFrame({'url':blog_url_lst, 'date':date_lst})\n",
    "    blog_df['content'] = ' '\n",
    "    blog_df = blog_df.loc[blog_df['url'].str.contains('blog'),:]\n",
    "    return blog_df"
   ]
  },
  {
   "cell_type": "code",
   "execution_count": 12,
   "metadata": {
    "ExecuteTime": {
     "end_time": "2021-10-31T02:46:48.740770Z",
     "start_time": "2021-10-31T02:46:48.724891Z"
    }
   },
   "outputs": [],
   "source": [
    "# # 3년 이내의 블로그 리뷰만 링크 받기\n",
    "# def blog_link_list(blog_soup):\n",
    "#     global html_cleaner\n",
    "#     blog_url_lst=[]\n",
    "#     date_lst= []\n",
    "#     before_1y = datetime.datetime.now() - timedelta(days = 365)\n",
    "#     for s in blog_soup.find_all('li',{'class':'_3OyGD'}):\n",
    "#         date = s.find('span',{'class':'_7OvgA'})\n",
    "#         date = re.sub(html_cleaner,\"\", str(date))\n",
    "#         if '일 전' in date:\n",
    "#             date = datetime.datetime.now() - timedelta(days = int(date[0]))\n",
    "#         elif '시간 전' in date:\n",
    "#             date = datetime.datetime.now()\n",
    "\n",
    "#         #1년 이내 블로그 글만 퍼오기\n",
    "#         if pd.to_datetime(date) > before_1y:\n",
    "#             url = s.find('a')['href']\n",
    "#             blog_url_lst.append(url)\n",
    "#             date_lst.append(date)            \n",
    "#     blog_df = pd.DataFrame({'url':blog_url_lst, 'date':date_lst})\n",
    "#     blog_df['content'] = ' '\n",
    "#     blog_df = blog_df.loc[blog_df['url'].str.contains('blog'),:]\n",
    "#     return blog_df"
   ]
  },
  {
   "cell_type": "code",
   "execution_count": 13,
   "metadata": {
    "ExecuteTime": {
     "end_time": "2021-10-31T02:46:50.366144Z",
     "start_time": "2021-10-31T02:46:50.356209Z"
    }
   },
   "outputs": [],
   "source": [
    "def blog_review_content(blog_driver,blog_df):\n",
    "    \n",
    "    for url in tqdm(blog_df['url']):\n",
    "        blog_driver.get(url)\n",
    "        time.sleep(5)\n",
    "        blog_driver.switch_to.frame('mainFrame')\n",
    "        content = ''\n",
    "        overlays = \".se-component.se-text.se-l-default\" # 내용 크롤링\n",
    "        unrefined_content = blog_driver.find_elements_by_css_selector(overlays)\n",
    "        \n",
    "        if len(unrefined_content) == 0:\n",
    "            overlays = \".se_component.se_paragraph.default\" # 내용 크롤링\n",
    "            unrefined_content = blog_driver.find_elements_by_css_selector(overlays)\n",
    "        for c in unrefined_content:\n",
    "            content = content + c.text # content 라는 값에 + 하면서 점점 누적\n",
    "            content = content.replace(\"\\n\",\"\")\n",
    "        blog_df.loc[blog_df['url']==url,'content'] = content\n",
    "\n",
    "    return blog_df"
   ]
  },
  {
   "cell_type": "markdown",
   "metadata": {
    "ExecuteTime": {
     "end_time": "2021-10-08T16:57:20.938240Z",
     "start_time": "2021-10-08T16:57:20.923890Z"
    }
   },
   "source": [
    "## 전체 크롤링 코드"
   ]
  },
  {
   "cell_type": "code",
   "execution_count": 14,
   "metadata": {
    "ExecuteTime": {
     "end_time": "2021-10-31T02:46:51.330893Z",
     "start_time": "2021-10-31T02:46:51.310948Z"
    }
   },
   "outputs": [],
   "source": [
    "def blog_crawling(store_number,see_more_xpath):\n",
    "    chrome_path = 'C:/Users/chris/0 hyunji/Marketing/Crawling/' \n",
    "    options = webdriver.ChromeOptions()\n",
    "#     options.add_argument('headless')#창 안 뜨게 설정\n",
    "    blog_driver = webdriver.Chrome(chrome_path+'chromedriver.exe',options=options)# 크롬 경로\n",
    "    blog_driver.implicitly_wait(np.random.uniform(1.5,3))\n",
    "    \n",
    "    #url 접속\n",
    "    review_url = 'https://pcmap.place.naver.com/restaurant/'+str(store_number)+'/home?from=map&amp;fromPanelNum=2&amp'\n",
    "    blog_driver.get(review_url)\n",
    "    time.sleep(5)\n",
    "    \n",
    "\n",
    "    # 블로그 리뷰 탭으로 넘어가기\n",
    "    review_seen(blog_driver, see_more_xpath)\n",
    "    # 더보기 탭 누르기\n",
    "    all_blog_review_seen(blog_driver)\n",
    "    # 현재 html 받기\n",
    "    blog_html = blog_driver.page_source\n",
    "    blog_soup = BeautifulSoup(blog_html,'html.parser')\n",
    "    html_cleaner = re.compile('<.*?>')\n",
    "\n",
    "    #블로그 링크, 날짜 --> 블로그 df에 저장\n",
    "    blog_df = blog_link_list(blog_soup)\n",
    "    #블로그 내용 크롤링 --> 블로그 df에 저장\n",
    "    blog_df = blog_review_content(blog_driver, blog_df)\n",
    "    blog_df.insert(0,'지점명',store_name_lst[i],allow_duplicates=False)\n",
    "    \n",
    "    blog_driver.close()\n",
    "    return blog_df"
   ]
  },
  {
   "cell_type": "markdown",
   "metadata": {
    "ExecuteTime": {
     "end_time": "2021-10-08T16:36:07.906037Z",
     "start_time": "2021-10-08T16:36:07.896063Z"
    }
   },
   "source": [
    "# 크롤링 실행 후 df에 저장"
   ]
  },
  {
   "cell_type": "markdown",
   "metadata": {
    "ExecuteTime": {
     "end_time": "2021-10-08T16:42:33.051234Z",
     "start_time": "2021-10-08T16:42:33.042250Z"
    }
   },
   "source": [
    "## 크롤링한 후 전체 df로 합치기"
   ]
  },
  {
   "cell_type": "code",
   "execution_count": 156,
   "metadata": {
    "ExecuteTime": {
     "end_time": "2021-10-31T12:29:44.350284Z",
     "start_time": "2021-10-31T12:29:44.341462Z"
    }
   },
   "outputs": [],
   "source": [
    "visit_xpath ='//span[contains(text(),\"방문자 리뷰\")]/..'\n",
    "blog_xpath= '//span[contains(text(),\"블로그리뷰\")]/..'"
   ]
  },
  {
   "cell_type": "code",
   "execution_count": 111,
   "metadata": {
    "ExecuteTime": {
     "end_time": "2021-10-31T12:04:59.951670Z",
     "start_time": "2021-10-31T12:04:59.947609Z"
    }
   },
   "outputs": [],
   "source": [
    "store_number_lst = store_list['지점번호']\n",
    "store_name_lst = store_list['지점명']"
   ]
  },
  {
   "cell_type": "markdown",
   "metadata": {},
   "source": [
    "## 주문자 리뷰"
   ]
  },
  {
   "cell_type": "code",
   "execution_count": 112,
   "metadata": {
    "ExecuteTime": {
     "end_time": "2021-10-31T12:05:36.071820Z",
     "start_time": "2021-10-31T12:05:26.847362Z"
    }
   },
   "outputs": [],
   "source": [
    "visit_review_df = pd.read_excel('./롯데리아_방문자리뷰.xlsx')"
   ]
  },
  {
   "cell_type": "code",
   "execution_count": 114,
   "metadata": {
    "ExecuteTime": {
     "end_time": "2021-10-31T12:05:52.800797Z",
     "start_time": "2021-10-31T12:05:52.775701Z"
    }
   },
   "outputs": [
    {
     "data": {
      "text/html": [
       "<div>\n",
       "<style scoped>\n",
       "    .dataframe tbody tr th:only-of-type {\n",
       "        vertical-align: middle;\n",
       "    }\n",
       "\n",
       "    .dataframe tbody tr th {\n",
       "        vertical-align: top;\n",
       "    }\n",
       "\n",
       "    .dataframe thead th {\n",
       "        text-align: right;\n",
       "    }\n",
       "</style>\n",
       "<table border=\"1\" class=\"dataframe\">\n",
       "  <thead>\n",
       "    <tr style=\"text-align: right;\">\n",
       "      <th></th>\n",
       "      <th>지점명</th>\n",
       "      <th>지점명확인</th>\n",
       "      <th>평균평점</th>\n",
       "      <th>평점</th>\n",
       "      <th>한줄평</th>\n",
       "      <th>작성날짜</th>\n",
       "      <th>방문횟수</th>\n",
       "    </tr>\n",
       "  </thead>\n",
       "  <tbody>\n",
       "    <tr>\n",
       "      <th>42860</th>\n",
       "      <td>개봉역</td>\n",
       "      <td>롯데리아 개봉역점</td>\n",
       "      <td>4.8</td>\n",
       "      <td>4</td>\n",
       "      <td>치킨버거 + 클래식치즈버거 1+1 행사 하길래 구입했네요^^*</td>\n",
       "      <td>2019.12.23</td>\n",
       "      <td>4</td>\n",
       "    </tr>\n",
       "    <tr>\n",
       "      <th>42861</th>\n",
       "      <td>개봉역</td>\n",
       "      <td>롯데리아 개봉역점</td>\n",
       "      <td>3.5</td>\n",
       "      <td>4</td>\n",
       "      <td>뭐 개봉역이랑 가까워서 자주 들러요~</td>\n",
       "      <td>2019.12.15</td>\n",
       "      <td>1</td>\n",
       "    </tr>\n",
       "    <tr>\n",
       "      <th>42862</th>\n",
       "      <td>개봉역</td>\n",
       "      <td>롯데리아 개봉역점</td>\n",
       "      <td>4.8</td>\n",
       "      <td>4</td>\n",
       "      <td>새우버거 1+1 리아데이 행사라서 구매 했네요</td>\n",
       "      <td>2019.12.05</td>\n",
       "      <td>3</td>\n",
       "    </tr>\n",
       "    <tr>\n",
       "      <th>42863</th>\n",
       "      <td>개봉역</td>\n",
       "      <td>롯데리아 개봉역점</td>\n",
       "      <td>4.4</td>\n",
       "      <td>5</td>\n",
       "      <td>직원이 친절해요</td>\n",
       "      <td>2019.12.03</td>\n",
       "      <td>1</td>\n",
       "    </tr>\n",
       "    <tr>\n",
       "      <th>42864</th>\n",
       "      <td>개봉역</td>\n",
       "      <td>롯데리아 개봉역점</td>\n",
       "      <td>4.0</td>\n",
       "      <td>4</td>\n",
       "      <td>메뉴가 빠르게 나와서 좋네요!</td>\n",
       "      <td>2019.12.03</td>\n",
       "      <td>1</td>\n",
       "    </tr>\n",
       "  </tbody>\n",
       "</table>\n",
       "</div>"
      ],
      "text/plain": [
       "       지점명      지점명확인  평균평점 평점                                 한줄평  \\\n",
       "42860  개봉역  롯데리아 개봉역점   4.8  4  치킨버거 + 클래식치즈버거 1+1 행사 하길래 구입했네요^^*   \n",
       "42861  개봉역  롯데리아 개봉역점   3.5  4                뭐 개봉역이랑 가까워서 자주 들러요~   \n",
       "42862  개봉역  롯데리아 개봉역점   4.8  4           새우버거 1+1 리아데이 행사라서 구매 했네요   \n",
       "42863  개봉역  롯데리아 개봉역점   4.4  5                            직원이 친절해요   \n",
       "42864  개봉역  롯데리아 개봉역점   4.0  4                    메뉴가 빠르게 나와서 좋네요!   \n",
       "\n",
       "             작성날짜  방문횟수  \n",
       "42860  2019.12.23     4  \n",
       "42861  2019.12.15     1  \n",
       "42862  2019.12.05     3  \n",
       "42863  2019.12.03     1  \n",
       "42864  2019.12.03     1  "
      ]
     },
     "execution_count": 114,
     "metadata": {},
     "output_type": "execute_result"
    }
   ],
   "source": [
    "visit_review_df.tail()"
   ]
  },
  {
   "cell_type": "code",
   "execution_count": 164,
   "metadata": {
    "ExecuteTime": {
     "end_time": "2021-10-31T12:43:27.187888Z",
     "start_time": "2021-10-31T12:41:59.623486Z"
    },
    "scrolled": true
   },
   "outputs": [
    {
     "name": "stderr",
     "output_type": "stream",
     "text": [
      "100%|████████████████████████████████████████████████████████████████████████████████████| 1/1 [01:27<00:00, 87.55s/it]\n"
     ]
    }
   ],
   "source": [
    "# visit_review_df = pd.read_excel('./롯데리아_방문자리뷰.xlsx')\n",
    "for i in tqdm(range(178,len(store_number_lst))):    \n",
    "    #i번째 지점의 크롤링 review_df 생성\n",
    "    try:\n",
    "        visit_xpath ='//span[contains(text(),\"방문자 리뷰\")]/..'\n",
    "        review_df = visit_crawling(store_number_lst[i],visit_xpath)\n",
    "    except NoSuchElementException:\n",
    "        visit_xpath ='//span[contains(text(),\"주문자 리뷰\")]/..'\n",
    "        review_df = visit_crawling(store_number_lst[i],visit_xpath)\n",
    "        \n",
    "    #review_df의 첫 열에 지점명 추가\n",
    "    review_df.insert(0,'지점명',store_name_lst[i],allow_duplicates=False)\n",
    "    #전체 df에 합치기\n",
    "    visit_review_df = pd.concat([visit_review_df, review_df],axis=0)"
   ]
  },
  {
   "cell_type": "code",
   "execution_count": 166,
   "metadata": {
    "ExecuteTime": {
     "end_time": "2021-10-31T12:43:57.507516Z",
     "start_time": "2021-10-31T12:43:35.717375Z"
    }
   },
   "outputs": [],
   "source": [
    "visit_review_df.to_excel('./롯데리아_방문자리뷰.xlsx',index=False)"
   ]
  },
  {
   "cell_type": "code",
   "execution_count": null,
   "metadata": {},
   "outputs": [],
   "source": []
  },
  {
   "cell_type": "code",
   "execution_count": 165,
   "metadata": {
    "ExecuteTime": {
     "end_time": "2021-10-31T12:43:30.732300Z",
     "start_time": "2021-10-31T12:43:30.694284Z"
    }
   },
   "outputs": [
    {
     "data": {
      "text/html": [
       "<div>\n",
       "<style scoped>\n",
       "    .dataframe tbody tr th:only-of-type {\n",
       "        vertical-align: middle;\n",
       "    }\n",
       "\n",
       "    .dataframe tbody tr th {\n",
       "        vertical-align: top;\n",
       "    }\n",
       "\n",
       "    .dataframe thead th {\n",
       "        text-align: right;\n",
       "    }\n",
       "</style>\n",
       "<table border=\"1\" class=\"dataframe\">\n",
       "  <thead>\n",
       "    <tr style=\"text-align: right;\">\n",
       "      <th></th>\n",
       "      <th>지점명</th>\n",
       "      <th>지점명확인</th>\n",
       "      <th>평균평점</th>\n",
       "      <th>평점</th>\n",
       "      <th>한줄평</th>\n",
       "      <th>작성날짜</th>\n",
       "      <th>방문횟수</th>\n",
       "    </tr>\n",
       "  </thead>\n",
       "  <tbody>\n",
       "    <tr>\n",
       "      <th>0</th>\n",
       "      <td>이대</td>\n",
       "      <td>롯데리아 이대점</td>\n",
       "      <td>4.9</td>\n",
       "      <td>5</td>\n",
       "      <td>굿</td>\n",
       "      <td>2021.09.26</td>\n",
       "      <td>2</td>\n",
       "    </tr>\n",
       "    <tr>\n",
       "      <th>1</th>\n",
       "      <td>이대</td>\n",
       "      <td>롯데리아 이대점</td>\n",
       "      <td>4.9</td>\n",
       "      <td>5</td>\n",
       "      <td>냠냠</td>\n",
       "      <td>2021.09.26</td>\n",
       "      <td>1</td>\n",
       "    </tr>\n",
       "    <tr>\n",
       "      <th>2</th>\n",
       "      <td>이대</td>\n",
       "      <td>롯데리아 이대점</td>\n",
       "      <td>4.8</td>\n",
       "      <td>5</td>\n",
       "      <td>좋아요</td>\n",
       "      <td>2021.09.26</td>\n",
       "      <td>1</td>\n",
       "    </tr>\n",
       "    <tr>\n",
       "      <th>3</th>\n",
       "      <td>이대</td>\n",
       "      <td>롯데리아 이대점</td>\n",
       "      <td>4.0</td>\n",
       "      <td>4</td>\n",
       "      <td>맛있어요</td>\n",
       "      <td>2021.09.24</td>\n",
       "      <td>2</td>\n",
       "    </tr>\n",
       "    <tr>\n",
       "      <th>4</th>\n",
       "      <td>이대</td>\n",
       "      <td>롯데리아 이대점</td>\n",
       "      <td>4.5</td>\n",
       "      <td>5</td>\n",
       "      <td>좋음</td>\n",
       "      <td>2021.09.14</td>\n",
       "      <td>2</td>\n",
       "    </tr>\n",
       "    <tr>\n",
       "      <th>...</th>\n",
       "      <td>...</td>\n",
       "      <td>...</td>\n",
       "      <td>...</td>\n",
       "      <td>...</td>\n",
       "      <td>...</td>\n",
       "      <td>...</td>\n",
       "      <td>...</td>\n",
       "    </tr>\n",
       "    <tr>\n",
       "      <th>595</th>\n",
       "      <td>봉천</td>\n",
       "      <td>롯데리아 서울대입구역점</td>\n",
       "      <td>NaN</td>\n",
       "      <td>5</td>\n",
       "      <td>롯데리아는 불고기버거죠</td>\n",
       "      <td>2019-03-24 00:00:00</td>\n",
       "      <td>1</td>\n",
       "    </tr>\n",
       "    <tr>\n",
       "      <th>596</th>\n",
       "      <td>봉천</td>\n",
       "      <td>롯데리아 서울대입구역점</td>\n",
       "      <td>NaN</td>\n",
       "      <td>3</td>\n",
       "      <td>사람이 늘 많아요^^</td>\n",
       "      <td>2019-03-17 00:00:00</td>\n",
       "      <td>1</td>\n",
       "    </tr>\n",
       "    <tr>\n",
       "      <th>597</th>\n",
       "      <td>봉천</td>\n",
       "      <td>롯데리아 서울대입구역점</td>\n",
       "      <td>NaN</td>\n",
       "      <td>4</td>\n",
       "      <td>24시간 오픈해서 좋습니다.\\n배달도 되요</td>\n",
       "      <td>2019-03-04 00:00:00</td>\n",
       "      <td>1</td>\n",
       "    </tr>\n",
       "    <tr>\n",
       "      <th>598</th>\n",
       "      <td>봉천</td>\n",
       "      <td>롯데리아 서울대입구역점</td>\n",
       "      <td>NaN</td>\n",
       "      <td>5</td>\n",
       "      <td>깔끔한 내부 그리고 맛있는 버거와 커피 : )</td>\n",
       "      <td>2019-02-28 00:00:00</td>\n",
       "      <td>1</td>\n",
       "    </tr>\n",
       "    <tr>\n",
       "      <th>599</th>\n",
       "      <td>봉천</td>\n",
       "      <td>롯데리아 서울대입구역점</td>\n",
       "      <td>NaN</td>\n",
       "      <td>4</td>\n",
       "      <td>학생들이 시끄럽고 서비스는 평타</td>\n",
       "      <td>2019-02-23 00:00:00</td>\n",
       "      <td>1</td>\n",
       "    </tr>\n",
       "  </tbody>\n",
       "</table>\n",
       "<p>57015 rows × 7 columns</p>\n",
       "</div>"
      ],
      "text/plain": [
       "    지점명         지점명확인  평균평점 평점                        한줄평  \\\n",
       "0    이대      롯데리아 이대점   4.9  5                          굿   \n",
       "1    이대      롯데리아 이대점   4.9  5                         냠냠   \n",
       "2    이대      롯데리아 이대점   4.8  5                        좋아요   \n",
       "3    이대      롯데리아 이대점   4.0  4                       맛있어요   \n",
       "4    이대      롯데리아 이대점   4.5  5                         좋음   \n",
       "..   ..           ...   ... ..                        ...   \n",
       "595  봉천  롯데리아 서울대입구역점   NaN  5               롯데리아는 불고기버거죠   \n",
       "596  봉천  롯데리아 서울대입구역점   NaN  3               사람이 늘 많아요^^    \n",
       "597  봉천  롯데리아 서울대입구역점   NaN  4    24시간 오픈해서 좋습니다.\\n배달도 되요   \n",
       "598  봉천  롯데리아 서울대입구역점   NaN  5  깔끔한 내부 그리고 맛있는 버거와 커피 : )   \n",
       "599  봉천  롯데리아 서울대입구역점   NaN  4          학생들이 시끄럽고 서비스는 평타   \n",
       "\n",
       "                    작성날짜 방문횟수  \n",
       "0             2021.09.26    2  \n",
       "1             2021.09.26    1  \n",
       "2             2021.09.26    1  \n",
       "3             2021.09.24    2  \n",
       "4             2021.09.14    2  \n",
       "..                   ...  ...  \n",
       "595  2019-03-24 00:00:00    1  \n",
       "596  2019-03-17 00:00:00    1  \n",
       "597  2019-03-04 00:00:00    1  \n",
       "598  2019-02-28 00:00:00    1  \n",
       "599  2019-02-23 00:00:00    1  \n",
       "\n",
       "[57015 rows x 7 columns]"
      ]
     },
     "execution_count": 165,
     "metadata": {},
     "output_type": "execute_result"
    }
   ],
   "source": [
    "visit_review_df"
   ]
  },
  {
   "cell_type": "code",
   "execution_count": 170,
   "metadata": {
    "ExecuteTime": {
     "end_time": "2021-10-31T12:45:09.272302Z",
     "start_time": "2021-10-31T12:45:09.257273Z"
    },
    "scrolled": true
   },
   "outputs": [
    {
     "data": {
      "text/html": [
       "<div>\n",
       "<style scoped>\n",
       "    .dataframe tbody tr th:only-of-type {\n",
       "        vertical-align: middle;\n",
       "    }\n",
       "\n",
       "    .dataframe tbody tr th {\n",
       "        vertical-align: top;\n",
       "    }\n",
       "\n",
       "    .dataframe thead th {\n",
       "        text-align: right;\n",
       "    }\n",
       "</style>\n",
       "<table border=\"1\" class=\"dataframe\">\n",
       "  <thead>\n",
       "    <tr style=\"text-align: right;\">\n",
       "      <th></th>\n",
       "      <th>지점명</th>\n",
       "      <th>지점번호</th>\n",
       "    </tr>\n",
       "  </thead>\n",
       "  <tbody>\n",
       "    <tr>\n",
       "      <th>116</th>\n",
       "      <td>미아삼거리</td>\n",
       "      <td>20981518</td>\n",
       "    </tr>\n",
       "  </tbody>\n",
       "</table>\n",
       "</div>"
      ],
      "text/plain": [
       "       지점명      지점번호\n",
       "116  미아삼거리  20981518"
      ]
     },
     "execution_count": 170,
     "metadata": {},
     "output_type": "execute_result"
    }
   ],
   "source": [
    "store_list.loc[store_list['지점명']=='미아삼거리',]"
   ]
  },
  {
   "cell_type": "code",
   "execution_count": 163,
   "metadata": {
    "ExecuteTime": {
     "end_time": "2021-10-31T12:41:52.673003Z",
     "start_time": "2021-10-31T12:41:52.664032Z"
    }
   },
   "outputs": [
    {
     "data": {
      "text/plain": [
       "지점명           봉천\n",
       "지점번호    36893807\n",
       "Name: 178, dtype: object"
      ]
     },
     "execution_count": 163,
     "metadata": {},
     "output_type": "execute_result"
    }
   ],
   "source": [
    "store_list.iloc[178,:]"
   ]
  },
  {
   "cell_type": "markdown",
   "metadata": {},
   "source": [
    "## 블로그 리뷰"
   ]
  },
  {
   "cell_type": "code",
   "execution_count": 168,
   "metadata": {
    "ExecuteTime": {
     "end_time": "2021-10-31T12:44:28.053655Z",
     "start_time": "2021-10-31T12:44:27.858997Z"
    }
   },
   "outputs": [],
   "source": [
    "blog_review_df = pd.read_excel('./롯데리아_블로그리뷰.xlsx')"
   ]
  },
  {
   "cell_type": "code",
   "execution_count": null,
   "metadata": {
    "ExecuteTime": {
     "start_time": "2021-10-31T13:48:10.432Z"
    },
    "scrolled": true
   },
   "outputs": [
    {
     "name": "stderr",
     "output_type": "stream",
     "text": [
      " 15%|████████████▊                                                                      | 8/52 [01:52<10:58, 14.96s/it]Exception ignored in: <function Service.__del__ at 0x000002340F6B8DC0>\n",
      "Traceback (most recent call last):\n",
      "  File \"C:\\Anaconda3\\lib\\site-packages\\selenium\\webdriver\\common\\service.py\", line 176, in __del__\n",
      "    self.stop()\n",
      "  File \"C:\\Anaconda3\\lib\\site-packages\\selenium\\webdriver\\common\\service.py\", line 151, in stop\n",
      "    self.send_remote_shutdown_command()\n",
      "  File \"C:\\Anaconda3\\lib\\site-packages\\selenium\\webdriver\\common\\service.py\", line 132, in send_remote_shutdown_command\n",
      "    if not self.is_connectable():\n",
      "  File \"C:\\Anaconda3\\lib\\site-packages\\selenium\\webdriver\\common\\service.py\", line 115, in is_connectable\n",
      "    return utils.is_connectable(self.port)\n",
      "  File \"C:\\Anaconda3\\lib\\site-packages\\selenium\\webdriver\\common\\utils.py\", line 106, in is_connectable\n",
      "    socket_ = socket.create_connection((host, port), 1)\n",
      "  File \"C:\\Anaconda3\\lib\\socket.py\", line 796, in create_connection\n",
      "    sock.connect(sa)\n",
      "KeyboardInterrupt: \n",
      " 17%|██████████████▎                                                                    | 9/52 [01:54<07:51, 10.96s/it]Exception ignored in: <function Service.__del__ at 0x000002340F6B8DC0>\n",
      "Traceback (most recent call last):\n",
      "  File \"C:\\Anaconda3\\lib\\site-packages\\selenium\\webdriver\\common\\service.py\", line 176, in __del__\n",
      "    self.stop()\n",
      "  File \"C:\\Anaconda3\\lib\\site-packages\\selenium\\webdriver\\common\\service.py\", line 151, in stop\n",
      "    self.send_remote_shutdown_command()\n",
      "  File \"C:\\Anaconda3\\lib\\site-packages\\selenium\\webdriver\\common\\service.py\", line 132, in send_remote_shutdown_command\n",
      "    if not self.is_connectable():\n",
      "  File \"C:\\Anaconda3\\lib\\site-packages\\selenium\\webdriver\\common\\service.py\", line 115, in is_connectable\n",
      "    return utils.is_connectable(self.port)\n",
      "  File \"C:\\Anaconda3\\lib\\site-packages\\selenium\\webdriver\\common\\utils.py\", line 106, in is_connectable\n",
      "    socket_ = socket.create_connection((host, port), 1)\n",
      "  File \"C:\\Anaconda3\\lib\\socket.py\", line 796, in create_connection\n",
      "    sock.connect(sa)\n",
      "KeyboardInterrupt: \n",
      "Exception ignored in: <function Service.__del__ at 0x000002340F6B8DC0>\n",
      "Traceback (most recent call last):\n",
      "  File \"C:\\Anaconda3\\lib\\site-packages\\selenium\\webdriver\\common\\service.py\", line 176, in __del__\n",
      "    self.stop()\n",
      "  File \"C:\\Anaconda3\\lib\\site-packages\\selenium\\webdriver\\common\\service.py\", line 151, in stop\n",
      "    self.send_remote_shutdown_command()\n",
      "  File \"C:\\Anaconda3\\lib\\site-packages\\selenium\\webdriver\\common\\service.py\", line 132, in send_remote_shutdown_command\n",
      "    if not self.is_connectable():\n",
      "  File \"C:\\Anaconda3\\lib\\site-packages\\selenium\\webdriver\\common\\service.py\", line 115, in is_connectable\n",
      "    return utils.is_connectable(self.port)\n",
      "  File \"C:\\Anaconda3\\lib\\site-packages\\selenium\\webdriver\\common\\utils.py\", line 106, in is_connectable\n",
      "    socket_ = socket.create_connection((host, port), 1)\n",
      "  File \"C:\\Anaconda3\\lib\\socket.py\", line 796, in create_connection\n",
      "    sock.connect(sa)\n",
      "KeyboardInterrupt: \n",
      "\n",
      "  0%|                                                                                            | 0/1 [00:00<?, ?it/s]\u001b[A\n",
      "100%|████████████████████████████████████████████████████████████████████████████████████| 1/1 [00:10<00:00, 10.21s/it]\u001b[A\n",
      " 21%|█████████████████▎                                                                | 11/52 [02:44<11:49, 17.31s/it]"
     ]
    }
   ],
   "source": [
    "# blog_review_df = pd.read_excel('./롯데리아_블로그리뷰')\n",
    "for i in tqdm(store_list.loc[store_list['지점명'].isin(remain_lst),:].index):\n",
    "    #i번째 지점의 크롤링 review_df 생성\n",
    "    try:\n",
    "        review_df = blog_crawling(store_number_lst[i],blog_xpath)\n",
    "        #전체 df에 합치기\n",
    "        blog_review_df = pd.concat([blog_review_df, review_df],axis=0)\n",
    "    except:\n",
    "        continue"
   ]
  },
  {
   "cell_type": "code",
   "execution_count": 173,
   "metadata": {
    "ExecuteTime": {
     "end_time": "2021-10-31T13:43:01.971966Z",
     "start_time": "2021-10-31T13:42:59.399548Z"
    },
    "scrolled": false
   },
   "outputs": [],
   "source": [
    "blog_review_df.to_excel('롯데리아_블로그리뷰.xlsx', index=False)"
   ]
  },
  {
   "cell_type": "code",
   "execution_count": 176,
   "metadata": {
    "ExecuteTime": {
     "end_time": "2021-10-31T13:44:17.495397Z",
     "start_time": "2021-10-31T13:44:17.483429Z"
    },
    "scrolled": true
   },
   "outputs": [],
   "source": [
    "remain_lst = np.setdiff1d(store_list['지점명'],blog_review_df['지점명'])"
   ]
  },
  {
   "cell_type": "code",
   "execution_count": 179,
   "metadata": {
    "ExecuteTime": {
     "end_time": "2021-10-31T13:46:54.682257Z",
     "start_time": "2021-10-31T13:46:54.665299Z"
    }
   },
   "outputs": [
    {
     "data": {
      "text/plain": [
       "array(['GS마트상계', '강남우성사거리', '강변씨네마', '개포', '건대스타시티', '구의역', '내린천휴게소',\n",
       "       '녹번', '답십리', '동대문광장', '동서울터미널', '롯데마트시흥배곧', '망우', '목동킴스클럽',\n",
       "       '문정로데오', '번동DT', '사가정역', '사당', '삼양사거리', '상봉역', '상암', '서울랜드2호',\n",
       "       '서울랜드점', '석계', '세곡', '수서역사', '시흥중앙', '시흥휴게소', '신김포공항', '신방화역',\n",
       "       '암사역', '언더랜드', '역삼', '영등포타임스퀘어B2', '오금', '오류동역', '용산역사', '용산역사ST',\n",
       "       '잠실새내', '정릉', '중앙대', '창동역', '창천', '천호역', '청량리', '학동역', '홈플러스남현',\n",
       "       '홈플러스상봉', '홈플러스신내', '홈플러스월곡', '홈플러스월드컵', '홈플러스합정'], dtype=object)"
      ]
     },
     "execution_count": 179,
     "metadata": {},
     "output_type": "execute_result"
    }
   ],
   "source": [
    "remain_lst"
   ]
  },
  {
   "cell_type": "code",
   "execution_count": 181,
   "metadata": {
    "ExecuteTime": {
     "end_time": "2021-10-31T13:47:41.968609Z",
     "start_time": "2021-10-31T13:47:41.947245Z"
    },
    "scrolled": false
   },
   "outputs": [
    {
     "data": {
      "text/plain": [
       "Int64Index([  3,   4,  13,  17,  19,  20,  21,  26,  33,  37,  42,  43,  54,\n",
       "             55,  56,  57,  58,  59,  60,  61,  62,  63,  64,  65,  66,  67,\n",
       "             73,  88,  93, 100, 101, 102, 104, 106, 110, 111, 112, 114, 117,\n",
       "            121, 126, 128, 131, 139, 148, 149, 156, 161, 169, 174, 175, 177],\n",
       "           dtype='int64')"
      ]
     },
     "execution_count": 181,
     "metadata": {},
     "output_type": "execute_result"
    }
   ],
   "source": [
    "store_list.loc[store_list['지점명'].isin(remain_lst),:].index"
   ]
  },
  {
   "cell_type": "markdown",
   "metadata": {},
   "source": [
    "## 디버깅"
   ]
  },
  {
   "cell_type": "markdown",
   "metadata": {
    "ExecuteTime": {
     "end_time": "2021-10-15T04:22:24.398184Z",
     "start_time": "2021-10-15T04:22:24.393125Z"
    }
   },
   "source": [
    "### 방문자"
   ]
  },
  {
   "cell_type": "code",
   "execution_count": 137,
   "metadata": {
    "ExecuteTime": {
     "end_time": "2021-10-31T12:24:16.744782Z",
     "start_time": "2021-10-31T12:23:08.562857Z"
    }
   },
   "outputs": [],
   "source": [
    "i = 164\n",
    "chrome_path = 'C:/Users/chris/0 hyunji/Marketing/Crawling/' \n",
    "options = webdriver.ChromeOptions()\n",
    "# options.add_argument('headless')#창 안 뜨게 설정\n",
    "review_driver = webdriver.Chrome(chrome_path +'chromedriver.exe',options=options)# 크롬 경로\n",
    "review_driver.implicitly_wait(3)\n",
    "\n",
    "#url 접속\n",
    "review_url = 'https://pcmap.place.naver.com/restaurant/'+str(store_number_lst[i])+'/home?from=map&amp;fromPanelNum=2&amp'\n",
    "review_driver.get(review_url)\n",
    "time.sleep(5)\n",
    "\n",
    "# store_name= []\n",
    "main_html = review_driver.page_source\n",
    "main_soup = BeautifulSoup(main_html,'html.parser')\n",
    "store_name=main_soup.find('span', {'class': '_3XamX'}) #이름\n",
    "store_name=re.sub(html_cleaner, \"\", str(store_name))\n",
    "#     store_name.append(name)\n",
    "\n",
    "#스크롤 다운 후 방문자 리뷰 더보기 클릭\n",
    "try:\n",
    "    review_seen(review_driver, visit_xpath)\n",
    "    \n",
    "except:\n",
    "#     review_driver.execute_script(\"window.scrollTo(0, document.body.scrollHeight)\")\n",
    "    review_seen(review_driver, visit_xpath)\n",
    "    \n",
    "# #방문자 리뷰 더보기 끝까지 클릭\n",
    "all_visit_review_seen(review_driver)\n",
    "review_html = review_driver.page_source\n",
    "review_soup = BeautifulSoup(review_html,'html.parser')\n",
    "\n"
   ]
  },
  {
   "cell_type": "code",
   "execution_count": 138,
   "metadata": {
    "ExecuteTime": {
     "end_time": "2021-10-31T12:24:26.456514Z",
     "start_time": "2021-10-31T12:24:25.596266Z"
    }
   },
   "outputs": [],
   "source": [
    "#review_df에 필요한 정보 담기\n",
    "review_df = take_info(review_soup)\n",
    "review_df.insert(0,'지점명확인',store_name,allow_duplicates=False)\n",
    "review_df.insert(0,'지점명',store_name_lst[i],allow_duplicates=False)"
   ]
  },
  {
   "cell_type": "code",
   "execution_count": 139,
   "metadata": {
    "ExecuteTime": {
     "end_time": "2021-10-31T12:24:27.938129Z",
     "start_time": "2021-10-31T12:24:27.890561Z"
    },
    "scrolled": true
   },
   "outputs": [],
   "source": [
    "visit_review_df = pd.concat([visit_review_df,review_df], axis=0)"
   ]
  },
  {
   "cell_type": "code",
   "execution_count": 140,
   "metadata": {
    "ExecuteTime": {
     "end_time": "2021-10-31T12:24:28.762425Z",
     "start_time": "2021-10-31T12:24:28.736386Z"
    },
    "scrolled": true
   },
   "outputs": [
    {
     "data": {
      "text/html": [
       "<div>\n",
       "<style scoped>\n",
       "    .dataframe tbody tr th:only-of-type {\n",
       "        vertical-align: middle;\n",
       "    }\n",
       "\n",
       "    .dataframe tbody tr th {\n",
       "        vertical-align: top;\n",
       "    }\n",
       "\n",
       "    .dataframe thead th {\n",
       "        text-align: right;\n",
       "    }\n",
       "</style>\n",
       "<table border=\"1\" class=\"dataframe\">\n",
       "  <thead>\n",
       "    <tr style=\"text-align: right;\">\n",
       "      <th></th>\n",
       "      <th>지점명</th>\n",
       "      <th>지점명확인</th>\n",
       "      <th>평균평점</th>\n",
       "      <th>평점</th>\n",
       "      <th>한줄평</th>\n",
       "      <th>작성날짜</th>\n",
       "      <th>방문횟수</th>\n",
       "    </tr>\n",
       "  </thead>\n",
       "  <tbody>\n",
       "    <tr>\n",
       "      <th>595</th>\n",
       "      <td>면목중앙</td>\n",
       "      <td>롯데리아 면목중앙점</td>\n",
       "      <td>NaN</td>\n",
       "      <td>5</td>\n",
       "      <td>롯데리아는 불고기버거죠</td>\n",
       "      <td>2019-03-24 00:00:00</td>\n",
       "      <td>1</td>\n",
       "    </tr>\n",
       "    <tr>\n",
       "      <th>596</th>\n",
       "      <td>면목중앙</td>\n",
       "      <td>롯데리아 면목중앙점</td>\n",
       "      <td>NaN</td>\n",
       "      <td>3</td>\n",
       "      <td>사람이 늘 많아요^^</td>\n",
       "      <td>2019-03-17 00:00:00</td>\n",
       "      <td>1</td>\n",
       "    </tr>\n",
       "    <tr>\n",
       "      <th>597</th>\n",
       "      <td>면목중앙</td>\n",
       "      <td>롯데리아 면목중앙점</td>\n",
       "      <td>NaN</td>\n",
       "      <td>4</td>\n",
       "      <td>24시간 오픈해서 좋습니다.\\n배달도 되요</td>\n",
       "      <td>2019-03-04 00:00:00</td>\n",
       "      <td>1</td>\n",
       "    </tr>\n",
       "    <tr>\n",
       "      <th>598</th>\n",
       "      <td>면목중앙</td>\n",
       "      <td>롯데리아 면목중앙점</td>\n",
       "      <td>NaN</td>\n",
       "      <td>5</td>\n",
       "      <td>깔끔한 내부 그리고 맛있는 버거와 커피 : )</td>\n",
       "      <td>2019-02-28 00:00:00</td>\n",
       "      <td>1</td>\n",
       "    </tr>\n",
       "    <tr>\n",
       "      <th>599</th>\n",
       "      <td>면목중앙</td>\n",
       "      <td>롯데리아 면목중앙점</td>\n",
       "      <td>NaN</td>\n",
       "      <td>4</td>\n",
       "      <td>학생들이 시끄럽고 서비스는 평타</td>\n",
       "      <td>2019-02-23 00:00:00</td>\n",
       "      <td>1</td>\n",
       "    </tr>\n",
       "  </tbody>\n",
       "</table>\n",
       "</div>"
      ],
      "text/plain": [
       "      지점명       지점명확인  평균평점 평점                        한줄평  \\\n",
       "595  면목중앙  롯데리아 면목중앙점   NaN  5               롯데리아는 불고기버거죠   \n",
       "596  면목중앙  롯데리아 면목중앙점   NaN  3               사람이 늘 많아요^^    \n",
       "597  면목중앙  롯데리아 면목중앙점   NaN  4    24시간 오픈해서 좋습니다.\\n배달도 되요   \n",
       "598  면목중앙  롯데리아 면목중앙점   NaN  5  깔끔한 내부 그리고 맛있는 버거와 커피 : )   \n",
       "599  면목중앙  롯데리아 면목중앙점   NaN  4          학생들이 시끄럽고 서비스는 평타   \n",
       "\n",
       "                    작성날짜 방문횟수  \n",
       "595  2019-03-24 00:00:00    1  \n",
       "596  2019-03-17 00:00:00    1  \n",
       "597  2019-03-04 00:00:00    1  \n",
       "598  2019-02-28 00:00:00    1  \n",
       "599  2019-02-23 00:00:00    1  "
      ]
     },
     "execution_count": 140,
     "metadata": {},
     "output_type": "execute_result"
    }
   ],
   "source": [
    "visit_review_df.tail()"
   ]
  },
  {
   "cell_type": "code",
   "execution_count": null,
   "metadata": {
    "ExecuteTime": {
     "end_time": "2021-10-15T07:43:02.878845Z",
     "start_time": "2021-10-15T07:42:58.358059Z"
    }
   },
   "outputs": [],
   "source": [
    "pd.set_option('display.max_rows',8000)\n",
    "visit_review_df"
   ]
  },
  {
   "cell_type": "markdown",
   "metadata": {
    "ExecuteTime": {
     "end_time": "2021-10-15T04:22:17.053453Z",
     "start_time": "2021-10-15T04:22:17.046275Z"
    }
   },
   "source": [
    "### 블로그"
   ]
  },
  {
   "cell_type": "code",
   "execution_count": 90,
   "metadata": {
    "ExecuteTime": {
     "end_time": "2021-10-31T06:21:43.618975Z",
     "start_time": "2021-10-31T06:21:28.031383Z"
    }
   },
   "outputs": [],
   "source": [
    "chrome_path = 'C:/Users/chris/0 hyunji/Marketing/Crawling/' \n",
    "options = webdriver.ChromeOptions()\n",
    "# options.add_argument('headless')#창 안 뜨게 설정\n",
    "blog_driver = webdriver.Chrome(chrome_path+'chromedriver.exe',options=options)# 크롬 경로\n",
    "blog_driver.implicitly_wait(5)\n",
    "\n",
    "#url 접속\n",
    "review_url = 'https://pcmap.place.naver.com/restaurant/'+str(store_number_lst[0])+'/home?from=map&amp;fromPanelNum=2&amp'\n",
    "blog_driver.get(review_url)\n",
    "time.sleep(5)\n",
    "\n",
    "\n",
    "# 블로그 리뷰 탭으로 넘어가기\n",
    "review_seen(blog_driver, blog_xpath)\n",
    "# 5번 더보기 탭 누르기\n",
    "all_blog_review_seen(blog_driver)\n",
    "# 현재 html 받기\n",
    "blog_html = blog_driver.page_source\n",
    "blog_soup = BeautifulSoup(blog_html,'html.parser')\n",
    "html_cleaner = re.compile('<.*?>')\n",
    "\n",
    "\n",
    "# #블로그 링크, 날짜 --> 블로그 df에 저장\n",
    "# blog_df = blog_link_list(blog_soup)\n",
    "# #블로그 내용 크롤링 --> 블로그 df에 저장\n",
    "# blog_df = blog_review_content(blog_driver, blog_df)\n",
    "# blog_df.insert(0,'지점명',store_name_lst[0],allow_duplicates=False)\n",
    "\n"
   ]
  },
  {
   "cell_type": "code",
   "execution_count": 97,
   "metadata": {
    "ExecuteTime": {
     "end_time": "2021-10-31T06:24:44.115004Z",
     "start_time": "2021-10-31T06:24:44.063956Z"
    }
   },
   "outputs": [],
   "source": [
    "blog_url_lst=[]\n",
    "date_lst= []\n",
    "before_1y = datetime.datetime.now() - timedelta(days = 365)\n",
    "for s in blog_soup.find_all('li',{'class':'_3OyGD'}):\n",
    "    date = s.find('span',{'class':'_2M6JC'})\n",
    "    date = re.sub(html_cleaner,\"\", str(date))\n",
    "\n",
    "    if '일 전' in date:\n",
    "        date = datetime.datetime.now() - timedelta(days = int(date[0]))\n",
    "    elif '시간 전' in date:\n",
    "        date = datetime.datetime.now()\n",
    "    else:\n",
    "        date = re.sub(hangul_cleaner,\"\", str(date))\n",
    "        try:\n",
    "            date = pd.to_datetime(date,format='%m.%d.')+relativedelta(years = 121)\n",
    "\n",
    "        except:\n",
    "            continue #1년 전 글 \n",
    "#             date = pd.to_datetime('20'+date,format='%Y.%m.%d.')        \n",
    "    url = s.find('a')['href']\n",
    "    blog_url_lst.append(url)\n",
    "    date_lst.append(date) \n",
    "\n",
    "blog_df = pd.DataFrame({'url':blog_url_lst, 'date':date_lst})\n",
    "blog_df['content'] = ' '\n",
    "blog_df = blog_df.loc[blog_df['url'].str.contains('blog'),:]"
   ]
  },
  {
   "cell_type": "code",
   "execution_count": 91,
   "metadata": {
    "ExecuteTime": {
     "end_time": "2021-10-31T06:21:49.430322Z",
     "start_time": "2021-10-31T06:21:49.382450Z"
    },
    "scrolled": false
   },
   "outputs": [
    {
     "ename": "NameError",
     "evalue": "name 'hangul_cleaner' is not defined",
     "output_type": "error",
     "traceback": [
      "\u001b[1;31m---------------------------------------------------------------------------\u001b[0m",
      "\u001b[1;31mNameError\u001b[0m                                 Traceback (most recent call last)",
      "\u001b[1;32m<ipython-input-91-c53d03f1d0e9>\u001b[0m in \u001b[0;36m<module>\u001b[1;34m\u001b[0m\n\u001b[0;32m      1\u001b[0m \u001b[1;31m#블로그 링크, 날짜 --> 블로그 df에 저장\u001b[0m\u001b[1;33m\u001b[0m\u001b[1;33m\u001b[0m\u001b[1;33m\u001b[0m\u001b[0m\n\u001b[1;32m----> 2\u001b[1;33m \u001b[0mblog_df\u001b[0m \u001b[1;33m=\u001b[0m \u001b[0mblog_link_list\u001b[0m\u001b[1;33m(\u001b[0m\u001b[0mblog_soup\u001b[0m\u001b[1;33m)\u001b[0m\u001b[1;33m\u001b[0m\u001b[1;33m\u001b[0m\u001b[0m\n\u001b[0m\u001b[0;32m      3\u001b[0m \u001b[1;31m#블로그 내용 크롤링 --> 블로그 df에 저장\u001b[0m\u001b[1;33m\u001b[0m\u001b[1;33m\u001b[0m\u001b[1;33m\u001b[0m\u001b[0m\n\u001b[0;32m      4\u001b[0m \u001b[0mblog_df\u001b[0m \u001b[1;33m=\u001b[0m \u001b[0mblog_review_content\u001b[0m\u001b[1;33m(\u001b[0m\u001b[0mblog_driver\u001b[0m\u001b[1;33m,\u001b[0m \u001b[0mblog_df\u001b[0m\u001b[1;33m)\u001b[0m\u001b[1;33m\u001b[0m\u001b[1;33m\u001b[0m\u001b[0m\n\u001b[0;32m      5\u001b[0m \u001b[0mblog_df\u001b[0m\u001b[1;33m.\u001b[0m\u001b[0minsert\u001b[0m\u001b[1;33m(\u001b[0m\u001b[1;36m0\u001b[0m\u001b[1;33m,\u001b[0m\u001b[1;34m'지점명'\u001b[0m\u001b[1;33m,\u001b[0m\u001b[0mstore_name_lst\u001b[0m\u001b[1;33m[\u001b[0m\u001b[1;36m0\u001b[0m\u001b[1;33m]\u001b[0m\u001b[1;33m,\u001b[0m\u001b[0mallow_duplicates\u001b[0m\u001b[1;33m=\u001b[0m\u001b[1;32mFalse\u001b[0m\u001b[1;33m)\u001b[0m\u001b[1;33m\u001b[0m\u001b[1;33m\u001b[0m\u001b[0m\n",
      "\u001b[1;32m<ipython-input-11-2d4421ede2e0>\u001b[0m in \u001b[0;36mblog_link_list\u001b[1;34m(blog_soup)\u001b[0m\n\u001b[0;32m     12\u001b[0m             \u001b[0mdate\u001b[0m \u001b[1;33m=\u001b[0m \u001b[0mdatetime\u001b[0m\u001b[1;33m.\u001b[0m\u001b[0mdatetime\u001b[0m\u001b[1;33m.\u001b[0m\u001b[0mnow\u001b[0m\u001b[1;33m(\u001b[0m\u001b[1;33m)\u001b[0m\u001b[1;33m\u001b[0m\u001b[1;33m\u001b[0m\u001b[0m\n\u001b[0;32m     13\u001b[0m         \u001b[1;32melse\u001b[0m\u001b[1;33m:\u001b[0m\u001b[1;33m\u001b[0m\u001b[1;33m\u001b[0m\u001b[0m\n\u001b[1;32m---> 14\u001b[1;33m             \u001b[0mdate\u001b[0m \u001b[1;33m=\u001b[0m \u001b[0mre\u001b[0m\u001b[1;33m.\u001b[0m\u001b[0msub\u001b[0m\u001b[1;33m(\u001b[0m\u001b[0mhangul_cleaner\u001b[0m\u001b[1;33m,\u001b[0m\u001b[1;34m\"\"\u001b[0m\u001b[1;33m,\u001b[0m \u001b[0mstr\u001b[0m\u001b[1;33m(\u001b[0m\u001b[0mdate\u001b[0m\u001b[1;33m)\u001b[0m\u001b[1;33m)\u001b[0m\u001b[1;33m\u001b[0m\u001b[1;33m\u001b[0m\u001b[0m\n\u001b[0m\u001b[0;32m     15\u001b[0m             \u001b[1;32mtry\u001b[0m\u001b[1;33m:\u001b[0m\u001b[1;33m\u001b[0m\u001b[1;33m\u001b[0m\u001b[0m\n\u001b[0;32m     16\u001b[0m                 \u001b[0mdate\u001b[0m \u001b[1;33m=\u001b[0m \u001b[0mpd\u001b[0m\u001b[1;33m.\u001b[0m\u001b[0mto_datetime\u001b[0m\u001b[1;33m(\u001b[0m\u001b[0mdate\u001b[0m\u001b[1;33m,\u001b[0m\u001b[0mformat\u001b[0m\u001b[1;33m=\u001b[0m\u001b[1;34m'%m.%d.'\u001b[0m\u001b[1;33m)\u001b[0m\u001b[1;33m+\u001b[0m\u001b[0mrelativedelta\u001b[0m\u001b[1;33m(\u001b[0m\u001b[0myears\u001b[0m \u001b[1;33m=\u001b[0m \u001b[1;36m121\u001b[0m\u001b[1;33m)\u001b[0m\u001b[1;33m\u001b[0m\u001b[1;33m\u001b[0m\u001b[0m\n",
      "\u001b[1;31mNameError\u001b[0m: name 'hangul_cleaner' is not defined"
     ]
    }
   ],
   "source": [
    "#블로그 링크, 날짜 --> 블로그 df에 저장\n",
    "blog_df = blog_link_list(blog_soup)\n",
    "#블로그 내용 크롤링 --> 블로그 df에 저장\n",
    "blog_df = blog_review_content(blog_driver, blog_df)\n",
    "blog_df.insert(0,'지점명',store_name_lst[0],allow_duplicates=False)\n"
   ]
  },
  {
   "cell_type": "code",
   "execution_count": null,
   "metadata": {},
   "outputs": [],
   "source": []
  }
 ],
 "metadata": {
  "hide_input": false,
  "kernelspec": {
   "display_name": "Python 3",
   "language": "python",
   "name": "python3"
  },
  "language_info": {
   "codemirror_mode": {
    "name": "ipython",
    "version": 3
   },
   "file_extension": ".py",
   "mimetype": "text/x-python",
   "name": "python",
   "nbconvert_exporter": "python",
   "pygments_lexer": "ipython3",
   "version": "3.8.5"
  },
  "toc": {
   "base_numbering": 1,
   "nav_menu": {},
   "number_sections": true,
   "sideBar": true,
   "skip_h1_title": false,
   "title_cell": "Table of Contents",
   "title_sidebar": "Contents",
   "toc_cell": false,
   "toc_position": {},
   "toc_section_display": true,
   "toc_window_display": false
  }
 },
 "nbformat": 4,
 "nbformat_minor": 4
}
